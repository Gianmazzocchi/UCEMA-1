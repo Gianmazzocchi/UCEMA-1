{
 "cells": [
  {
   "cell_type": "markdown",
   "metadata": {
    "pycharm": {
     "name": "#%% md\n"
    }
   },
   "source": [
    "# Python: Base\n",
    "**markdown**\n",
    "\n",
    "El objetivo principal es poder levantar distintos formatos de datos, aprender a iterar (loop) y generar transformaciones y entender cómo hacer la cosas más elegantes.\n",
    "\n",
    "En términos puntuales quiero que podamos:\n",
    "* 1-Levantar datos, realizarle operaciones y aplicarle modelo.\n",
    "* 2- Escribir funciones y generar nuestra propia librería \n",
    "* 3- Escribir algoritmos desde cero.\n"
   ]
  },
  {
   "cell_type": "markdown",
   "source": [
    "# 00- Importar y leer datos"
   ],
   "metadata": {
    "collapsed": false,
    "pycharm": {
     "name": "#%% md\n"
    }
   }
  },
  {
   "cell_type": "code",
   "execution_count": 2,
   "metadata": {
    "pycharm": {
     "name": "#%%\n"
    }
   },
   "outputs": [],
   "source": [
    "import pandas as pd"
   ]
  },
  {
   "cell_type": "code",
   "execution_count": 3,
   "outputs": [
    {
     "name": "stdout",
     "output_type": "stream",
     "text": [
      "01_ventas_comercial.ipynb \u001B[1m\u001B[36m1-ventas-comercial\u001B[m\u001B[m        README.md\r\n",
      "02-solutions.ipynb        \u001B[1m\u001B[36m5-ypf\u001B[m\u001B[m                     \u001B[1m\u001B[36mdata\u001B[m\u001B[m\r\n"
     ]
    }
   ],
   "source": [
    "!ls"
   ],
   "metadata": {
    "collapsed": false,
    "pycharm": {
     "name": "#%%\n"
    }
   }
  },
  {
   "cell_type": "code",
   "execution_count": 4,
   "outputs": [],
   "source": [
    "path_data = \"data/\""
   ],
   "metadata": {
    "collapsed": false,
    "pycharm": {
     "name": "#%%\n"
    }
   }
  },
  {
   "cell_type": "markdown",
   "metadata": {
    "pycharm": {
     "name": "#%% md\n"
    }
   },
   "source": [
    "\n",
    "## Ubicación Path"
   ]
  },
  {
   "cell_type": "code",
   "execution_count": 5,
   "outputs": [
    {
     "name": "stdout",
     "output_type": "stream",
     "text": [
      "3.9.7 (default, Sep 16 2021, 08:50:36) \n",
      "[Clang 10.0.0 ]\n"
     ]
    }
   ],
   "source": [
    "import sys\n",
    "print(sys.version)"
   ],
   "metadata": {
    "collapsed": false,
    "pycharm": {
     "name": "#%%\n"
    }
   }
  },
  {
   "cell_type": "code",
   "execution_count": 6,
   "metadata": {
    "pycharm": {
     "name": "#%%\n"
    }
   },
   "outputs": [
    {
     "data": {
      "text/plain": "'/Users/federicomoreno/PycharmProjects/curso/UCEMA/02-data-sources'"
     },
     "execution_count": 6,
     "metadata": {},
     "output_type": "execute_result"
    }
   ],
   "source": [
    "# con esta librería podes chequear la ubicación de tu notebook (y por ende directorio de trabajo)\n",
    "import os\n",
    "os.getcwd()"
   ]
  },
  {
   "cell_type": "code",
   "execution_count": 7,
   "metadata": {
    "pycharm": {
     "name": "#%%\n"
    }
   },
   "outputs": [],
   "source": [
    "path = '/Users/federicomoreno/PycharmProjects/curso/UCEMA/02-data-sources'"
   ]
  },
  {
   "cell_type": "code",
   "execution_count": 8,
   "metadata": {
    "tags": [],
    "pycharm": {
     "name": "#%%\n"
    }
   },
   "outputs": [
    {
     "name": "stdout",
     "output_type": "stream",
     "text": [
      "01_ventas_comercial.ipynb  \u001B[1m\u001B[36m5-ypf\u001B[m\u001B[m/\r\n",
      "02-solutions.ipynb         README.md\r\n",
      "\u001B[1m\u001B[36m1-ventas-comercial\u001B[m\u001B[m/        \u001B[1m\u001B[36mdata\u001B[m\u001B[m/\r\n"
     ]
    }
   ],
   "source": [
    "#ls es de linux comando típico para inspeccionar la estructura del directoreo, por lo general se utilizan ! o % para utilizar cómando de linux en la notebook. ! pip install es uno de los más usados\n",
    "%ls"
   ]
  },
  {
   "cell_type": "markdown",
   "metadata": {
    "pycharm": {
     "name": "#%% md\n"
    }
   },
   "source": [
    "## Instalar librerías que necesites \n",
    "!pip install LIBRERIA"
   ]
  },
  {
   "cell_type": "markdown",
   "metadata": {
    "pycharm": {
     "name": "#%% md\n"
    }
   },
   "source": [
    "# 1. walks\n",
    "\n",
    "¿Que pasa si quiere leer muchos archivos y concatenarlos?"
   ]
  },
  {
   "cell_type": "code",
   "execution_count": 9,
   "metadata": {
    "pycharm": {
     "name": "#%%\n"
    }
   },
   "outputs": [],
   "source": [
    "import glob\n",
    "import os"
   ]
  },
  {
   "cell_type": "code",
   "execution_count": 10,
   "metadata": {
    "tags": [],
    "pycharm": {
     "name": "#%%\n"
    }
   },
   "outputs": [
    {
     "data": {
      "text/plain": "'/Users/federicomoreno/PycharmProjects/curso/UCEMA/02-data-sources'"
     },
     "execution_count": 10,
     "metadata": {},
     "output_type": "execute_result"
    }
   ],
   "source": [
    "os.getcwd()"
   ]
  },
  {
   "cell_type": "code",
   "execution_count": 11,
   "metadata": {
    "pycharm": {
     "name": "#%%\n"
    }
   },
   "outputs": [],
   "source": [
    "path_folder_con_muchos_csv =  path_data + \"ventas_comercial\""
   ]
  },
  {
   "cell_type": "code",
   "execution_count": 12,
   "metadata": {
    "tags": [],
    "pycharm": {
     "name": "#%%\n"
    }
   },
   "outputs": [
    {
     "name": "stdout",
     "output_type": "stream",
     "text": [
      "data/ventas_comercial/King John.csv\n",
      "data/ventas_comercial/Henry VIII.csv\n",
      "data/ventas_comercial/Henry VI Part 2.csv\n",
      "data/ventas_comercial/A Comedy of Errors.csv\n",
      "data/ventas_comercial/Henry VI Part 3.csv\n",
      "data/ventas_comercial/Timon of Athens.csv\n",
      "data/ventas_comercial/A Winters Tale.csv\n",
      "data/ventas_comercial/Henry VI Part 1.csv\n",
      "data/ventas_comercial/Richard III.csv\n",
      "data/ventas_comercial/Hamlet.csv\n",
      "data/ventas_comercial/Romeo and Juliet.csv\n",
      "data/ventas_comercial/Taming of the Shrew.csv\n",
      "data/ventas_comercial/Measure for measure.csv\n",
      "data/ventas_comercial/Antony and Cleopatra.csv\n",
      "data/ventas_comercial/macbeth.csv\n",
      "data/ventas_comercial/Julius Caesar.csv\n",
      "data/ventas_comercial/Cymbeline.csv\n",
      "data/ventas_comercial/Coriolanus.csv\n",
      "data/ventas_comercial/As you like it.csv\n",
      "data/ventas_comercial/Richard II.csv\n",
      "data/ventas_comercial/Henry V.csv\n",
      "data/ventas_comercial/The Tempest.csv\n",
      "data/ventas_comercial/Alls well that ends well.csv\n",
      "data/ventas_comercial/Much Ado about nothing.csv\n",
      "data/ventas_comercial/Troilus and Cressida.csv\n",
      "data/ventas_comercial/Loves Labours Lost.csv\n",
      "data/ventas_comercial/Twelfth Night.csv\n",
      "data/ventas_comercial/Two Gentlemen of Verona.csv\n",
      "data/ventas_comercial/King Lear.csv\n",
      "data/ventas_comercial/Pericles.csv\n",
      "data/ventas_comercial/Henry IV.csv\n",
      "data/ventas_comercial/A Midsummer nights dream.csv\n",
      "data/ventas_comercial/Othello.csv\n",
      "data/ventas_comercial/Titus Andronicus.csv\n",
      "data/ventas_comercial/Merchant of Venice.csv\n",
      "data/ventas_comercial/Merry Wives of Windsor.csv\n"
     ]
    }
   ],
   "source": [
    "for file in glob.glob(path_folder_con_muchos_csv+ \"/*.csv\"):\n",
    "    print(file)"
   ]
  },
  {
   "cell_type": "code",
   "execution_count": 13,
   "outputs": [],
   "source": [
    "path = path_folder_con_muchos_csv"
   ],
   "metadata": {
    "collapsed": false,
    "pycharm": {
     "name": "#%%\n"
    }
   }
  },
  {
   "cell_type": "code",
   "execution_count": 14,
   "metadata": {
    "pycharm": {
     "name": "#%%\n"
    }
   },
   "outputs": [],
   "source": [
    "df = pd.concat([pd.read_csv(f) for f in glob.glob(path + \"/*.csv\")],\n",
    "                      ignore_index=True)"
   ]
  },
  {
   "cell_type": "code",
   "execution_count": 15,
   "metadata": {
    "pycharm": {
     "name": "#%%\n"
    }
   },
   "outputs": [
    {
     "data": {
      "text/plain": "(111396, 7)"
     },
     "execution_count": 15,
     "metadata": {},
     "output_type": "execute_result"
    }
   ],
   "source": [
    "df.shape"
   ]
  },
  {
   "cell_type": "code",
   "execution_count": 16,
   "metadata": {
    "pycharm": {
     "name": "#%%\n"
    }
   },
   "outputs": [
    {
     "data": {
      "text/plain": "   Unnamed: 0  Dataline       Play  PlayerLinenumber ActSceneLine  \\\n0       43490     43491  King John              11.0       5.5.97   \n1       43491     43492  King John              11.0       5.5.97   \n2       43492     43493  King John              11.0          NaN   \n3       43493     43494  King John               1.0        1.1.1   \n4       43494     43495  King John               2.0        1.1.2   \n\n            Player                                         PlayerLine  \n0  KING HENRY VIII                                              ACT I  \n1  KING HENRY VIII                       SCENE I. KING JOHN'S palace.  \n2  KING HENRY VIII  Enter KING JOHN, QUEEN ELINOR, PEMBROKE, ESSEX...  \n3        KING JOHN    Now, say, Chatillon, what would France with us?  \n4        CHATILLON    Thus, after greeting, speaks the King of France  ",
      "text/html": "<div>\n<style scoped>\n    .dataframe tbody tr th:only-of-type {\n        vertical-align: middle;\n    }\n\n    .dataframe tbody tr th {\n        vertical-align: top;\n    }\n\n    .dataframe thead th {\n        text-align: right;\n    }\n</style>\n<table border=\"1\" class=\"dataframe\">\n  <thead>\n    <tr style=\"text-align: right;\">\n      <th></th>\n      <th>Unnamed: 0</th>\n      <th>Dataline</th>\n      <th>Play</th>\n      <th>PlayerLinenumber</th>\n      <th>ActSceneLine</th>\n      <th>Player</th>\n      <th>PlayerLine</th>\n    </tr>\n  </thead>\n  <tbody>\n    <tr>\n      <th>0</th>\n      <td>43490</td>\n      <td>43491</td>\n      <td>King John</td>\n      <td>11.0</td>\n      <td>5.5.97</td>\n      <td>KING HENRY VIII</td>\n      <td>ACT I</td>\n    </tr>\n    <tr>\n      <th>1</th>\n      <td>43491</td>\n      <td>43492</td>\n      <td>King John</td>\n      <td>11.0</td>\n      <td>5.5.97</td>\n      <td>KING HENRY VIII</td>\n      <td>SCENE I. KING JOHN'S palace.</td>\n    </tr>\n    <tr>\n      <th>2</th>\n      <td>43492</td>\n      <td>43493</td>\n      <td>King John</td>\n      <td>11.0</td>\n      <td>NaN</td>\n      <td>KING HENRY VIII</td>\n      <td>Enter KING JOHN, QUEEN ELINOR, PEMBROKE, ESSEX...</td>\n    </tr>\n    <tr>\n      <th>3</th>\n      <td>43493</td>\n      <td>43494</td>\n      <td>King John</td>\n      <td>1.0</td>\n      <td>1.1.1</td>\n      <td>KING JOHN</td>\n      <td>Now, say, Chatillon, what would France with us?</td>\n    </tr>\n    <tr>\n      <th>4</th>\n      <td>43494</td>\n      <td>43495</td>\n      <td>King John</td>\n      <td>2.0</td>\n      <td>1.1.2</td>\n      <td>CHATILLON</td>\n      <td>Thus, after greeting, speaks the King of France</td>\n    </tr>\n  </tbody>\n</table>\n</div>"
     },
     "execution_count": 16,
     "metadata": {},
     "output_type": "execute_result"
    }
   ],
   "source": [
    "df.head()"
   ]
  },
  {
   "cell_type": "markdown",
   "metadata": {
    "pycharm": {
     "name": "#%% md\n"
    }
   },
   "source": [
    "Puedo crear un archivo .py con la función de lectura de los csv en una carpeta y arrojar algun proceso. Por ejemplo la cantidad de veces que aparece una palabra"
   ]
  },
  {
   "cell_type": "code",
   "execution_count": 17,
   "metadata": {
    "pycharm": {
     "name": "#%%\n"
    }
   },
   "outputs": [
    {
     "data": {
      "text/plain": "Hamlet                      4244\nCoriolanus                  3992\nCymbeline                   3958\nRichard III                 3941\nAntony and Cleopatra        3862\nKing Lear                   3766\nOthello                     3762\nTroilus and Cressida        3711\nA Winters Tale              3489\nHenry VIII                  3419\nHenry V                     3395\nHenry VI Part 2             3334\nRomeo and Juliet            3313\nHenry IV                    3205\nHenry VI Part 3             3138\nAlls well that ends well    3083\nMeasure for measure         2998\nLoves Labours Lost          2986\nHenry VI Part 1             2983\nRichard II                  2937\nMerry Wives of Windsor      2831\nAs you like it              2822\nTaming of the Shrew         2806\nMerchant of Venice          2802\nJulius Caesar               2771\nKing John                   2766\nTitus Andronicus            2726\nMuch Ado about nothing      2704\nTimon of Athens             2662\nTwelfth Night               2648\nPericles                    2641\nmacbeth                     2586\nThe Tempest                 2403\nTwo Gentlemen of Verona     2357\nA Midsummer nights dream    2300\nA Comedy of Errors          2055\nName: Play, dtype: int64"
     },
     "execution_count": 17,
     "metadata": {},
     "output_type": "execute_result"
    }
   ],
   "source": [
    "df['Play'].value_counts()"
   ]
  },
  {
   "cell_type": "code",
   "execution_count": 18,
   "outputs": [
    {
     "data": {
      "text/plain": "   Unnamed: 0  Dataline       Play  PlayerLinenumber ActSceneLine  \\\n0       43490     43491  King John              11.0       5.5.97   \n1       43491     43492  King John              11.0       5.5.97   \n2       43492     43493  King John              11.0          NaN   \n3       43493     43494  King John               1.0        1.1.1   \n4       43494     43495  King John               2.0        1.1.2   \n\n            Player                                         PlayerLine  \n0  KING HENRY VIII                                              ACT I  \n1  KING HENRY VIII                       SCENE I. KING JOHN'S palace.  \n2  KING HENRY VIII  Enter KING JOHN, QUEEN ELINOR, PEMBROKE, ESSEX...  \n3        KING JOHN    Now, say, Chatillon, what would France with us?  \n4        CHATILLON    Thus, after greeting, speaks the King of France  ",
      "text/html": "<div>\n<style scoped>\n    .dataframe tbody tr th:only-of-type {\n        vertical-align: middle;\n    }\n\n    .dataframe tbody tr th {\n        vertical-align: top;\n    }\n\n    .dataframe thead th {\n        text-align: right;\n    }\n</style>\n<table border=\"1\" class=\"dataframe\">\n  <thead>\n    <tr style=\"text-align: right;\">\n      <th></th>\n      <th>Unnamed: 0</th>\n      <th>Dataline</th>\n      <th>Play</th>\n      <th>PlayerLinenumber</th>\n      <th>ActSceneLine</th>\n      <th>Player</th>\n      <th>PlayerLine</th>\n    </tr>\n  </thead>\n  <tbody>\n    <tr>\n      <th>0</th>\n      <td>43490</td>\n      <td>43491</td>\n      <td>King John</td>\n      <td>11.0</td>\n      <td>5.5.97</td>\n      <td>KING HENRY VIII</td>\n      <td>ACT I</td>\n    </tr>\n    <tr>\n      <th>1</th>\n      <td>43491</td>\n      <td>43492</td>\n      <td>King John</td>\n      <td>11.0</td>\n      <td>5.5.97</td>\n      <td>KING HENRY VIII</td>\n      <td>SCENE I. KING JOHN'S palace.</td>\n    </tr>\n    <tr>\n      <th>2</th>\n      <td>43492</td>\n      <td>43493</td>\n      <td>King John</td>\n      <td>11.0</td>\n      <td>NaN</td>\n      <td>KING HENRY VIII</td>\n      <td>Enter KING JOHN, QUEEN ELINOR, PEMBROKE, ESSEX...</td>\n    </tr>\n    <tr>\n      <th>3</th>\n      <td>43493</td>\n      <td>43494</td>\n      <td>King John</td>\n      <td>1.0</td>\n      <td>1.1.1</td>\n      <td>KING JOHN</td>\n      <td>Now, say, Chatillon, what would France with us?</td>\n    </tr>\n    <tr>\n      <th>4</th>\n      <td>43494</td>\n      <td>43495</td>\n      <td>King John</td>\n      <td>2.0</td>\n      <td>1.1.2</td>\n      <td>CHATILLON</td>\n      <td>Thus, after greeting, speaks the King of France</td>\n    </tr>\n  </tbody>\n</table>\n</div>"
     },
     "execution_count": 18,
     "metadata": {},
     "output_type": "execute_result"
    }
   ],
   "source": [
    "df.head()"
   ],
   "metadata": {
    "collapsed": false,
    "pycharm": {
     "name": "#%%\n"
    }
   }
  },
  {
   "cell_type": "code",
   "execution_count": 19,
   "outputs": [],
   "source": [
    "unicos = df[\"Play\"].unique()"
   ],
   "metadata": {
    "collapsed": false,
    "pycharm": {
     "name": "#%%\n"
    }
   }
  },
  {
   "cell_type": "code",
   "execution_count": 20,
   "outputs": [
    {
     "data": {
      "text/plain": "(36,)"
     },
     "execution_count": 20,
     "metadata": {},
     "output_type": "execute_result"
    }
   ],
   "source": [
    "unicos.shape"
   ],
   "metadata": {
    "collapsed": false,
    "pycharm": {
     "name": "#%%\n"
    }
   }
  },
  {
   "cell_type": "code",
   "execution_count": 21,
   "outputs": [
    {
     "name": "stdout",
     "output_type": "stream",
     "text": [
      "<class 'pandas.core.frame.DataFrame'>\n",
      "RangeIndex: 111396 entries, 0 to 111395\n",
      "Data columns (total 7 columns):\n",
      " #   Column            Non-Null Count   Dtype  \n",
      "---  ------            --------------   -----  \n",
      " 0   Unnamed: 0        111396 non-null  int64  \n",
      " 1   Dataline          111396 non-null  int64  \n",
      " 2   Play              111396 non-null  object \n",
      " 3   PlayerLinenumber  111393 non-null  float64\n",
      " 4   ActSceneLine      105153 non-null  object \n",
      " 5   Player            111389 non-null  object \n",
      " 6   PlayerLine        111396 non-null  object \n",
      "dtypes: float64(1), int64(2), object(4)\n",
      "memory usage: 5.9+ MB\n"
     ]
    }
   ],
   "source": [
    "df.info()"
   ],
   "metadata": {
    "collapsed": false,
    "pycharm": {
     "name": "#%%\n"
    }
   }
  },
  {
   "cell_type": "markdown",
   "source": [
    "## Filter\n",
    "\n",
    "Indices"
   ],
   "metadata": {
    "collapsed": false,
    "pycharm": {
     "name": "#%% md\n"
    }
   }
  },
  {
   "cell_type": "code",
   "execution_count": 22,
   "outputs": [
    {
     "data": {
      "text/plain": "0         False\n1         False\n2         False\n3         False\n4         False\n          ...  \n111391    False\n111392    False\n111393    False\n111394    False\n111395    False\nName: Play, Length: 111396, dtype: bool"
     },
     "execution_count": 22,
     "metadata": {},
     "output_type": "execute_result"
    }
   ],
   "source": [
    "df.Play == \"macbeth\""
   ],
   "metadata": {
    "collapsed": false,
    "pycharm": {
     "name": "#%%\n"
    }
   }
  },
  {
   "cell_type": "code",
   "execution_count": 23,
   "outputs": [
    {
     "data": {
      "text/plain": "50000     Julius Caesar\n50001     Julius Caesar\n50002     Julius Caesar\n50003     Julius Caesar\n50004     Julius Caesar\n              ...      \n59995    As you like it\n59996    As you like it\n59997    As you like it\n59998    As you like it\n59999    As you like it\nName: Play, Length: 10000, dtype: object"
     },
     "execution_count": 23,
     "metadata": {},
     "output_type": "execute_result"
    }
   ],
   "source": [
    "df.Play[50000:60000]"
   ],
   "metadata": {
    "collapsed": false,
    "pycharm": {
     "name": "#%%\n"
    }
   }
  },
  {
   "cell_type": "code",
   "execution_count": 24,
   "outputs": [
    {
     "data": {
      "text/plain": "     Unnamed: 0  Dataline       Play  PlayerLinenumber ActSceneLine   Player  \\\n202       43692     43693  King John              48.0      1.1.196  BASTARD   \n\n                                       PlayerLine  \n202  'I shall beseech you'--that is question now,  ",
      "text/html": "<div>\n<style scoped>\n    .dataframe tbody tr th:only-of-type {\n        vertical-align: middle;\n    }\n\n    .dataframe tbody tr th {\n        vertical-align: top;\n    }\n\n    .dataframe thead th {\n        text-align: right;\n    }\n</style>\n<table border=\"1\" class=\"dataframe\">\n  <thead>\n    <tr style=\"text-align: right;\">\n      <th></th>\n      <th>Unnamed: 0</th>\n      <th>Dataline</th>\n      <th>Play</th>\n      <th>PlayerLinenumber</th>\n      <th>ActSceneLine</th>\n      <th>Player</th>\n      <th>PlayerLine</th>\n    </tr>\n  </thead>\n  <tbody>\n    <tr>\n      <th>202</th>\n      <td>43692</td>\n      <td>43693</td>\n      <td>King John</td>\n      <td>48.0</td>\n      <td>1.1.196</td>\n      <td>BASTARD</td>\n      <td>'I shall beseech you'--that is question now,</td>\n    </tr>\n  </tbody>\n</table>\n</div>"
     },
     "execution_count": 24,
     "metadata": {},
     "output_type": "execute_result"
    }
   ],
   "source": [
    "df[202:203]"
   ],
   "metadata": {
    "collapsed": false,
    "pycharm": {
     "name": "#%%\n"
    }
   }
  },
  {
   "cell_type": "code",
   "execution_count": 25,
   "outputs": [
    {
     "data": {
      "text/plain": "       Unnamed: 0  Dataline     Play  PlayerLinenumber ActSceneLine  \\\n45010       55779     55780  macbeth             405.0          NaN   \n45011       55780     55781  macbeth             405.0          NaN   \n45012       55781     55782  macbeth             405.0          NaN   \n45013       55782     55783  macbeth               1.0        1.1.1   \n45014       55783     55784  macbeth               1.0        1.1.2   \n...           ...       ...      ...               ...          ...   \n47591       58360     58361  macbeth              23.0       5.8.83   \n47592       58361     58362  macbeth              23.0       5.8.84   \n47593       58362     58363  macbeth              23.0       5.8.85   \n47594       58363     58364  macbeth              23.0       5.8.86   \n47595       58364     58365  macbeth              23.0          NaN   \n\n                  Player                                   PlayerLine  \n45010  ADRIANO DE ARMADO                                        ACT I  \n45011  ADRIANO DE ARMADO                     SCENE I. A desert place.  \n45012  ADRIANO DE ARMADO   Thunder and lightning. Enter three Witches  \n45013        First Witch               When shall we three meet again  \n45014        First Witch           In thunder, lightning, or in rain?  \n...                  ...                                          ...  \n47591            MALCOLM   That calls upon us, by the grace of Grace,  \n47592            MALCOLM  We will perform in measure, time and place:  \n47593            MALCOLM   So, thanks to all at once and to each one,  \n47594            MALCOLM   Whom we invite to see us crown'd at Scone.  \n47595            MALCOLM                             Flourish. Exeunt  \n\n[2586 rows x 7 columns]",
      "text/html": "<div>\n<style scoped>\n    .dataframe tbody tr th:only-of-type {\n        vertical-align: middle;\n    }\n\n    .dataframe tbody tr th {\n        vertical-align: top;\n    }\n\n    .dataframe thead th {\n        text-align: right;\n    }\n</style>\n<table border=\"1\" class=\"dataframe\">\n  <thead>\n    <tr style=\"text-align: right;\">\n      <th></th>\n      <th>Unnamed: 0</th>\n      <th>Dataline</th>\n      <th>Play</th>\n      <th>PlayerLinenumber</th>\n      <th>ActSceneLine</th>\n      <th>Player</th>\n      <th>PlayerLine</th>\n    </tr>\n  </thead>\n  <tbody>\n    <tr>\n      <th>45010</th>\n      <td>55779</td>\n      <td>55780</td>\n      <td>macbeth</td>\n      <td>405.0</td>\n      <td>NaN</td>\n      <td>ADRIANO DE ARMADO</td>\n      <td>ACT I</td>\n    </tr>\n    <tr>\n      <th>45011</th>\n      <td>55780</td>\n      <td>55781</td>\n      <td>macbeth</td>\n      <td>405.0</td>\n      <td>NaN</td>\n      <td>ADRIANO DE ARMADO</td>\n      <td>SCENE I. A desert place.</td>\n    </tr>\n    <tr>\n      <th>45012</th>\n      <td>55781</td>\n      <td>55782</td>\n      <td>macbeth</td>\n      <td>405.0</td>\n      <td>NaN</td>\n      <td>ADRIANO DE ARMADO</td>\n      <td>Thunder and lightning. Enter three Witches</td>\n    </tr>\n    <tr>\n      <th>45013</th>\n      <td>55782</td>\n      <td>55783</td>\n      <td>macbeth</td>\n      <td>1.0</td>\n      <td>1.1.1</td>\n      <td>First Witch</td>\n      <td>When shall we three meet again</td>\n    </tr>\n    <tr>\n      <th>45014</th>\n      <td>55783</td>\n      <td>55784</td>\n      <td>macbeth</td>\n      <td>1.0</td>\n      <td>1.1.2</td>\n      <td>First Witch</td>\n      <td>In thunder, lightning, or in rain?</td>\n    </tr>\n    <tr>\n      <th>...</th>\n      <td>...</td>\n      <td>...</td>\n      <td>...</td>\n      <td>...</td>\n      <td>...</td>\n      <td>...</td>\n      <td>...</td>\n    </tr>\n    <tr>\n      <th>47591</th>\n      <td>58360</td>\n      <td>58361</td>\n      <td>macbeth</td>\n      <td>23.0</td>\n      <td>5.8.83</td>\n      <td>MALCOLM</td>\n      <td>That calls upon us, by the grace of Grace,</td>\n    </tr>\n    <tr>\n      <th>47592</th>\n      <td>58361</td>\n      <td>58362</td>\n      <td>macbeth</td>\n      <td>23.0</td>\n      <td>5.8.84</td>\n      <td>MALCOLM</td>\n      <td>We will perform in measure, time and place:</td>\n    </tr>\n    <tr>\n      <th>47593</th>\n      <td>58362</td>\n      <td>58363</td>\n      <td>macbeth</td>\n      <td>23.0</td>\n      <td>5.8.85</td>\n      <td>MALCOLM</td>\n      <td>So, thanks to all at once and to each one,</td>\n    </tr>\n    <tr>\n      <th>47594</th>\n      <td>58363</td>\n      <td>58364</td>\n      <td>macbeth</td>\n      <td>23.0</td>\n      <td>5.8.86</td>\n      <td>MALCOLM</td>\n      <td>Whom we invite to see us crown'd at Scone.</td>\n    </tr>\n    <tr>\n      <th>47595</th>\n      <td>58364</td>\n      <td>58365</td>\n      <td>macbeth</td>\n      <td>23.0</td>\n      <td>NaN</td>\n      <td>MALCOLM</td>\n      <td>Flourish. Exeunt</td>\n    </tr>\n  </tbody>\n</table>\n<p>2586 rows × 7 columns</p>\n</div>"
     },
     "execution_count": 25,
     "metadata": {},
     "output_type": "execute_result"
    }
   ],
   "source": [
    "df[df.Play==\"macbeth\"]"
   ],
   "metadata": {
    "collapsed": false,
    "pycharm": {
     "name": "#%%\n"
    }
   }
  },
  {
   "cell_type": "code",
   "execution_count": 26,
   "outputs": [
    {
     "data": {
      "text/plain": "(111396, 7)"
     },
     "execution_count": 26,
     "metadata": {},
     "output_type": "execute_result"
    }
   ],
   "source": [
    "df.shape"
   ],
   "metadata": {
    "collapsed": false,
    "pycharm": {
     "name": "#%%\n"
    }
   }
  },
  {
   "cell_type": "code",
   "execution_count": 27,
   "outputs": [
    {
     "data": {
      "text/plain": "111396"
     },
     "execution_count": 27,
     "metadata": {},
     "output_type": "execute_result"
    }
   ],
   "source": [
    "len(df)"
   ],
   "metadata": {
    "collapsed": false,
    "pycharm": {
     "name": "#%%\n"
    }
   }
  },
  {
   "cell_type": "code",
   "execution_count": 28,
   "outputs": [
    {
     "data": {
      "text/plain": "2586"
     },
     "execution_count": 28,
     "metadata": {},
     "output_type": "execute_result"
    }
   ],
   "source": [
    "len(df[df.Play==\"macbeth\"])"
   ],
   "metadata": {
    "collapsed": false,
    "pycharm": {
     "name": "#%%\n"
    }
   }
  },
  {
   "cell_type": "code",
   "execution_count": 29,
   "outputs": [
    {
     "data": {
      "text/plain": "   Unnamed: 0  Dataline       Play  PlayerLinenumber ActSceneLine  \\\n0       43490     43491  King John              11.0       5.5.97   \n1       43491     43492  King John              11.0       5.5.97   \n2       43492     43493  King John              11.0          NaN   \n3       43493     43494  King John               1.0        1.1.1   \n4       43494     43495  King John               2.0        1.1.2   \n\n            Player                                         PlayerLine  \n0  KING HENRY VIII                                              ACT I  \n1  KING HENRY VIII                       SCENE I. KING JOHN'S palace.  \n2  KING HENRY VIII  Enter KING JOHN, QUEEN ELINOR, PEMBROKE, ESSEX...  \n3        KING JOHN    Now, say, Chatillon, what would France with us?  \n4        CHATILLON    Thus, after greeting, speaks the King of France  ",
      "text/html": "<div>\n<style scoped>\n    .dataframe tbody tr th:only-of-type {\n        vertical-align: middle;\n    }\n\n    .dataframe tbody tr th {\n        vertical-align: top;\n    }\n\n    .dataframe thead th {\n        text-align: right;\n    }\n</style>\n<table border=\"1\" class=\"dataframe\">\n  <thead>\n    <tr style=\"text-align: right;\">\n      <th></th>\n      <th>Unnamed: 0</th>\n      <th>Dataline</th>\n      <th>Play</th>\n      <th>PlayerLinenumber</th>\n      <th>ActSceneLine</th>\n      <th>Player</th>\n      <th>PlayerLine</th>\n    </tr>\n  </thead>\n  <tbody>\n    <tr>\n      <th>0</th>\n      <td>43490</td>\n      <td>43491</td>\n      <td>King John</td>\n      <td>11.0</td>\n      <td>5.5.97</td>\n      <td>KING HENRY VIII</td>\n      <td>ACT I</td>\n    </tr>\n    <tr>\n      <th>1</th>\n      <td>43491</td>\n      <td>43492</td>\n      <td>King John</td>\n      <td>11.0</td>\n      <td>5.5.97</td>\n      <td>KING HENRY VIII</td>\n      <td>SCENE I. KING JOHN'S palace.</td>\n    </tr>\n    <tr>\n      <th>2</th>\n      <td>43492</td>\n      <td>43493</td>\n      <td>King John</td>\n      <td>11.0</td>\n      <td>NaN</td>\n      <td>KING HENRY VIII</td>\n      <td>Enter KING JOHN, QUEEN ELINOR, PEMBROKE, ESSEX...</td>\n    </tr>\n    <tr>\n      <th>3</th>\n      <td>43493</td>\n      <td>43494</td>\n      <td>King John</td>\n      <td>1.0</td>\n      <td>1.1.1</td>\n      <td>KING JOHN</td>\n      <td>Now, say, Chatillon, what would France with us?</td>\n    </tr>\n    <tr>\n      <th>4</th>\n      <td>43494</td>\n      <td>43495</td>\n      <td>King John</td>\n      <td>2.0</td>\n      <td>1.1.2</td>\n      <td>CHATILLON</td>\n      <td>Thus, after greeting, speaks the King of France</td>\n    </tr>\n  </tbody>\n</table>\n</div>"
     },
     "execution_count": 29,
     "metadata": {},
     "output_type": "execute_result"
    }
   ],
   "source": [
    "df.head()"
   ],
   "metadata": {
    "collapsed": false,
    "pycharm": {
     "name": "#%%\n"
    }
   }
  },
  {
   "cell_type": "code",
   "execution_count": 30,
   "outputs": [],
   "source": [
    "#Creo un lista con los nombres\n",
    "UniqueNames=df.Play.unique().tolist()"
   ],
   "metadata": {
    "collapsed": false,
    "pycharm": {
     "name": "#%%\n"
    }
   }
  },
  {
   "cell_type": "code",
   "execution_count": 31,
   "outputs": [],
   "source": [
    "#create a data frame dictionary to store your data frames\n",
    "DataFrameDict = {elem : pd.DataFrame for elem in UniqueNames}"
   ],
   "metadata": {
    "collapsed": false,
    "pycharm": {
     "name": "#%%\n"
    }
   }
  },
  {
   "cell_type": "code",
   "execution_count": 32,
   "outputs": [
    {
     "name": "stdout",
     "output_type": "stream",
     "text": [
      "King John\n",
      "Henry VIII\n",
      "Henry VI Part 2\n",
      "A Comedy of Errors\n",
      "Henry VI Part 3\n",
      "Timon of Athens\n",
      "A Winters Tale\n",
      "Henry VI Part 1\n",
      "Richard III\n",
      "Hamlet\n",
      "Romeo and Juliet\n",
      "Taming of the Shrew\n",
      "Measure for measure\n",
      "Antony and Cleopatra\n",
      "macbeth\n",
      "Julius Caesar\n",
      "Cymbeline\n",
      "Coriolanus\n",
      "As you like it\n",
      "Richard II\n",
      "Henry V\n",
      "The Tempest\n",
      "Alls well that ends well\n",
      "Much Ado about nothing\n",
      "Troilus and Cressida\n",
      "Loves Labours Lost\n",
      "Twelfth Night\n",
      "Two Gentlemen of Verona\n",
      "King Lear\n",
      "Pericles\n",
      "Henry IV\n",
      "A Midsummer nights dream\n",
      "Othello\n",
      "Titus Andronicus\n",
      "Merchant of Venice\n",
      "Merry Wives of Windsor\n"
     ]
    }
   ],
   "source": [
    "for key in DataFrameDict:\n",
    "    print(key)"
   ],
   "metadata": {
    "collapsed": false,
    "pycharm": {
     "name": "#%%\n"
    }
   }
  },
  {
   "cell_type": "code",
   "execution_count": 34,
   "outputs": [
    {
     "data": {
      "text/plain": "{'King John': pandas.core.frame.DataFrame,\n 'Henry VIII': pandas.core.frame.DataFrame,\n 'Henry VI Part 2': pandas.core.frame.DataFrame,\n 'A Comedy of Errors': pandas.core.frame.DataFrame,\n 'Henry VI Part 3': pandas.core.frame.DataFrame,\n 'Timon of Athens': pandas.core.frame.DataFrame,\n 'A Winters Tale': pandas.core.frame.DataFrame,\n 'Henry VI Part 1': pandas.core.frame.DataFrame,\n 'Richard III': pandas.core.frame.DataFrame,\n 'Hamlet': pandas.core.frame.DataFrame,\n 'Romeo and Juliet': pandas.core.frame.DataFrame,\n 'Taming of the Shrew': pandas.core.frame.DataFrame,\n 'Measure for measure': pandas.core.frame.DataFrame,\n 'Antony and Cleopatra': pandas.core.frame.DataFrame,\n 'macbeth': pandas.core.frame.DataFrame,\n 'Julius Caesar': pandas.core.frame.DataFrame,\n 'Cymbeline': pandas.core.frame.DataFrame,\n 'Coriolanus': pandas.core.frame.DataFrame,\n 'As you like it': pandas.core.frame.DataFrame,\n 'Richard II': pandas.core.frame.DataFrame,\n 'Henry V': pandas.core.frame.DataFrame,\n 'The Tempest': pandas.core.frame.DataFrame,\n 'Alls well that ends well': pandas.core.frame.DataFrame,\n 'Much Ado about nothing': pandas.core.frame.DataFrame,\n 'Troilus and Cressida': pandas.core.frame.DataFrame,\n 'Loves Labours Lost': pandas.core.frame.DataFrame,\n 'Twelfth Night': pandas.core.frame.DataFrame,\n 'Two Gentlemen of Verona': pandas.core.frame.DataFrame,\n 'King Lear': pandas.core.frame.DataFrame,\n 'Pericles': pandas.core.frame.DataFrame,\n 'Henry IV': pandas.core.frame.DataFrame,\n 'A Midsummer nights dream': pandas.core.frame.DataFrame,\n 'Othello': pandas.core.frame.DataFrame,\n 'Titus Andronicus': pandas.core.frame.DataFrame,\n 'Merchant of Venice': pandas.core.frame.DataFrame,\n 'Merry Wives of Windsor': pandas.core.frame.DataFrame}"
     },
     "execution_count": 34,
     "metadata": {},
     "output_type": "execute_result"
    }
   ],
   "source": [
    "DataFrameDict"
   ],
   "metadata": {
    "collapsed": false,
    "pycharm": {
     "name": "#%%\n"
    }
   }
  },
  {
   "cell_type": "markdown",
   "source": [
    "## Para guardarlo\n",
    "\n",
    "for key in DataFrameDict.keys():\n",
    "    DataFrameDict[key] = df[df.Play == key]\n",
    "    DataFrameDict[key].to_csv(carpeta_output+ key+'.csv', header=True)"
   ],
   "metadata": {
    "collapsed": false,
    "pycharm": {
     "name": "#%% md\n"
    }
   }
  },
  {
   "cell_type": "markdown",
   "source": [
    "# observar la carpeta recorrer"
   ],
   "metadata": {
    "collapsed": false,
    "pycharm": {
     "name": "#%% md\n"
    }
   }
  },
  {
   "cell_type": "code",
   "execution_count": 48,
   "outputs": [],
   "source": [
    "macbeth = pd.read_csv(path+\"/macbeth.csv\")"
   ],
   "metadata": {
    "collapsed": false,
    "pycharm": {
     "name": "#%%\n"
    }
   }
  },
  {
   "cell_type": "code",
   "execution_count": 49,
   "outputs": [
    {
     "data": {
      "text/plain": "(2586, 7)"
     },
     "execution_count": 49,
     "metadata": {},
     "output_type": "execute_result"
    }
   ],
   "source": [
    "macbeth.shape"
   ],
   "metadata": {
    "collapsed": false,
    "pycharm": {
     "name": "#%%\n"
    }
   }
  },
  {
   "cell_type": "code",
   "execution_count": 50,
   "outputs": [
    {
     "data": {
      "text/plain": "   Unnamed: 0  Dataline     Play  PlayerLinenumber ActSceneLine  \\\n0       55779     55780  macbeth             405.0          NaN   \n1       55780     55781  macbeth             405.0          NaN   \n2       55781     55782  macbeth             405.0          NaN   \n3       55782     55783  macbeth               1.0        1.1.1   \n4       55783     55784  macbeth               1.0        1.1.2   \n\n              Player                                  PlayerLine  \n0  ADRIANO DE ARMADO                                       ACT I  \n1  ADRIANO DE ARMADO                    SCENE I. A desert place.  \n2  ADRIANO DE ARMADO  Thunder and lightning. Enter three Witches  \n3        First Witch              When shall we three meet again  \n4        First Witch          In thunder, lightning, or in rain?  ",
      "text/html": "<div>\n<style scoped>\n    .dataframe tbody tr th:only-of-type {\n        vertical-align: middle;\n    }\n\n    .dataframe tbody tr th {\n        vertical-align: top;\n    }\n\n    .dataframe thead th {\n        text-align: right;\n    }\n</style>\n<table border=\"1\" class=\"dataframe\">\n  <thead>\n    <tr style=\"text-align: right;\">\n      <th></th>\n      <th>Unnamed: 0</th>\n      <th>Dataline</th>\n      <th>Play</th>\n      <th>PlayerLinenumber</th>\n      <th>ActSceneLine</th>\n      <th>Player</th>\n      <th>PlayerLine</th>\n    </tr>\n  </thead>\n  <tbody>\n    <tr>\n      <th>0</th>\n      <td>55779</td>\n      <td>55780</td>\n      <td>macbeth</td>\n      <td>405.0</td>\n      <td>NaN</td>\n      <td>ADRIANO DE ARMADO</td>\n      <td>ACT I</td>\n    </tr>\n    <tr>\n      <th>1</th>\n      <td>55780</td>\n      <td>55781</td>\n      <td>macbeth</td>\n      <td>405.0</td>\n      <td>NaN</td>\n      <td>ADRIANO DE ARMADO</td>\n      <td>SCENE I. A desert place.</td>\n    </tr>\n    <tr>\n      <th>2</th>\n      <td>55781</td>\n      <td>55782</td>\n      <td>macbeth</td>\n      <td>405.0</td>\n      <td>NaN</td>\n      <td>ADRIANO DE ARMADO</td>\n      <td>Thunder and lightning. Enter three Witches</td>\n    </tr>\n    <tr>\n      <th>3</th>\n      <td>55782</td>\n      <td>55783</td>\n      <td>macbeth</td>\n      <td>1.0</td>\n      <td>1.1.1</td>\n      <td>First Witch</td>\n      <td>When shall we three meet again</td>\n    </tr>\n    <tr>\n      <th>4</th>\n      <td>55783</td>\n      <td>55784</td>\n      <td>macbeth</td>\n      <td>1.0</td>\n      <td>1.1.2</td>\n      <td>First Witch</td>\n      <td>In thunder, lightning, or in rain?</td>\n    </tr>\n  </tbody>\n</table>\n</div>"
     },
     "execution_count": 50,
     "metadata": {},
     "output_type": "execute_result"
    }
   ],
   "source": [
    "macbeth.head()"
   ],
   "metadata": {
    "collapsed": false,
    "pycharm": {
     "name": "#%%\n"
    }
   }
  }
 ],
 "metadata": {
  "kernelspec": {
   "display_name": "Python 3",
   "language": "python",
   "name": "python3"
  },
  "language_info": {
   "codemirror_mode": {
    "name": "ipython",
    "version": 3
   },
   "file_extension": ".py",
   "mimetype": "text/x-python",
   "name": "python",
   "nbconvert_exporter": "python",
   "pygments_lexer": "ipython3",
   "version": "3.6.10"
  }
 },
 "nbformat": 4,
 "nbformat_minor": 4
}