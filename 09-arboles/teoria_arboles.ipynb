{
 "cells": [
  {
   "cell_type": "markdown",
   "source": [
    "# Recomendar una página"
   ],
   "metadata": {
    "collapsed": false,
    "pycharm": {
     "name": "#%% md\n"
    }
   }
  },
  {
   "cell_type": "code",
   "execution_count": 1,
   "outputs": [],
   "source": [
    "import pandas as pd\n",
    "import numpy as np\n",
    "from matplotlib import pyplot as plt\n",
    "import utils\n",
    "from sklearn import tree\n",
    "\n",
    "from sklearn.tree import DecisionTreeClassifier\n",
    "import random\n",
    "random.seed(0)\n"
   ],
   "metadata": {
    "collapsed": false,
    "pycharm": {
     "name": "#%%\n"
    }
   }
  },
  {
   "cell_type": "code",
   "execution_count": 2,
   "outputs": [],
   "source": [
    "columnas = [\"Telefono\",\"Edad\",\"Página\"]"
   ],
   "metadata": {
    "collapsed": false,
    "pycharm": {
     "name": "#%%\n"
    }
   }
  },
  {
   "cell_type": "code",
   "execution_count": 3,
   "outputs": [],
   "source": [
    "clienteA = [\"Iphone\", 15, \"https://athleanx.com/\"]\n",
    "clienteB = [\"Iphone\", 25, \"https://www.chess.com/\"]\n",
    "clienteC = [\"Android\", 32, \"https://www.lanacion.com.ar/\"]\n",
    "clienteD = [\"Iphone\", 35, \"https://www.chess.com/\"]\n",
    "clienteE = [\"Android\", 12, \"https://athleanx.com/\"]\n",
    "clienteF = [\"Android\", 14, \"https://athleanx.com/\"]"
   ],
   "metadata": {
    "collapsed": false,
    "pycharm": {
     "name": "#%%\n"
    }
   }
  },
  {
   "cell_type": "code",
   "execution_count": 4,
   "outputs": [],
   "source": [
    "listado_de_clientes = [clienteA, clienteB, clienteC,clienteD,clienteE,clienteF]"
   ],
   "metadata": {
    "collapsed": false,
    "pycharm": {
     "name": "#%%\n"
    }
   }
  },
  {
   "cell_type": "code",
   "execution_count": 5,
   "outputs": [
    {
     "data": {
      "text/plain": "         Telefono  Edad                        Página\nClienteA   Iphone    15         https://athleanx.com/\nClienteB   Iphone    25        https://www.chess.com/\nClienteC  Android    32  https://www.lanacion.com.ar/\nClienteD   Iphone    35        https://www.chess.com/\nClienteE  Android    12         https://athleanx.com/\nClienteF  Android    14         https://athleanx.com/",
      "text/html": "<div>\n<style scoped>\n    .dataframe tbody tr th:only-of-type {\n        vertical-align: middle;\n    }\n\n    .dataframe tbody tr th {\n        vertical-align: top;\n    }\n\n    .dataframe thead th {\n        text-align: right;\n    }\n</style>\n<table border=\"1\" class=\"dataframe\">\n  <thead>\n    <tr style=\"text-align: right;\">\n      <th></th>\n      <th>Telefono</th>\n      <th>Edad</th>\n      <th>Página</th>\n    </tr>\n  </thead>\n  <tbody>\n    <tr>\n      <th>ClienteA</th>\n      <td>Iphone</td>\n      <td>15</td>\n      <td>https://athleanx.com/</td>\n    </tr>\n    <tr>\n      <th>ClienteB</th>\n      <td>Iphone</td>\n      <td>25</td>\n      <td>https://www.chess.com/</td>\n    </tr>\n    <tr>\n      <th>ClienteC</th>\n      <td>Android</td>\n      <td>32</td>\n      <td>https://www.lanacion.com.ar/</td>\n    </tr>\n    <tr>\n      <th>ClienteD</th>\n      <td>Iphone</td>\n      <td>35</td>\n      <td>https://www.chess.com/</td>\n    </tr>\n    <tr>\n      <th>ClienteE</th>\n      <td>Android</td>\n      <td>12</td>\n      <td>https://athleanx.com/</td>\n    </tr>\n    <tr>\n      <th>ClienteF</th>\n      <td>Android</td>\n      <td>14</td>\n      <td>https://athleanx.com/</td>\n    </tr>\n  </tbody>\n</table>\n</div>"
     },
     "execution_count": 5,
     "metadata": {},
     "output_type": "execute_result"
    }
   ],
   "source": [
    "dataframe = pd.DataFrame(listado_de_clientes, columns=columnas, index= [\"ClienteA\", \"ClienteB\", \"ClienteC\", \"ClienteD\", \"ClienteE\", \"ClienteF\"])\n",
    "dataframe"
   ],
   "metadata": {
    "collapsed": false,
    "pycharm": {
     "name": "#%%\n"
    }
   }
  },
  {
   "cell_type": "markdown",
   "source": [
    "dataset = {\"cliente\": [\"ClienteA\", \"ClienteB\", \"ClienteC\", \"ClienteD\", \"ClienteE\", \"ClienteF\"],\n",
    "           \"Telefono\": [\"Iphone\", \"Iphone\", \"Android\", \"Iphone\", \"Android\", \"Android\"],\n",
    "           \"Página\":[\"https://athleanx.com/\", \"www.chess.com\", \"https://www.lanacion.com.ar/\", \"https://www.chess.com/\", \"https://athleanx.com/\", \"https://athleanx.com/\"],\n",
    "           \"Edad\": [15, 25, 32, 35, 12, 14]}\n",
    "pd.DataFrame(dataset)"
   ],
   "metadata": {
    "collapsed": false,
    "pycharm": {
     "name": "#%% md\n"
    }
   }
  },
  {
   "cell_type": "code",
   "execution_count": 8,
   "outputs": [
    {
     "data": {
      "text/plain": "         Telefono  Edad                        Página\nClienteA   Iphone    15         https://athleanx.com/\nClienteB   Iphone    25        https://www.chess.com/\nClienteC  Android    32  https://www.lanacion.com.ar/\nClienteD   Iphone    35        https://www.chess.com/\nClienteE  Android    12         https://athleanx.com/\nClienteF  Android    14         https://athleanx.com/",
      "text/html": "<div>\n<style scoped>\n    .dataframe tbody tr th:only-of-type {\n        vertical-align: middle;\n    }\n\n    .dataframe tbody tr th {\n        vertical-align: top;\n    }\n\n    .dataframe thead th {\n        text-align: right;\n    }\n</style>\n<table border=\"1\" class=\"dataframe\">\n  <thead>\n    <tr style=\"text-align: right;\">\n      <th></th>\n      <th>Telefono</th>\n      <th>Edad</th>\n      <th>Página</th>\n    </tr>\n  </thead>\n  <tbody>\n    <tr>\n      <th>ClienteA</th>\n      <td>Iphone</td>\n      <td>15</td>\n      <td>https://athleanx.com/</td>\n    </tr>\n    <tr>\n      <th>ClienteB</th>\n      <td>Iphone</td>\n      <td>25</td>\n      <td>https://www.chess.com/</td>\n    </tr>\n    <tr>\n      <th>ClienteC</th>\n      <td>Android</td>\n      <td>32</td>\n      <td>https://www.lanacion.com.ar/</td>\n    </tr>\n    <tr>\n      <th>ClienteD</th>\n      <td>Iphone</td>\n      <td>35</td>\n      <td>https://www.chess.com/</td>\n    </tr>\n    <tr>\n      <th>ClienteE</th>\n      <td>Android</td>\n      <td>12</td>\n      <td>https://athleanx.com/</td>\n    </tr>\n    <tr>\n      <th>ClienteF</th>\n      <td>Android</td>\n      <td>14</td>\n      <td>https://athleanx.com/</td>\n    </tr>\n  </tbody>\n</table>\n</div>"
     },
     "execution_count": 8,
     "metadata": {},
     "output_type": "execute_result"
    }
   ],
   "source": [
    "dataframe"
   ],
   "metadata": {
    "collapsed": false,
    "pycharm": {
     "name": "#%%\n"
    }
   }
  },
  {
   "cell_type": "markdown",
   "source": [
    "Queremos armar un app de recomendaciones basadas en árboles de decisión:\n",
    "1. ¿Cual columna es más útil para la recomendación? (variable)\n",
    "2. La variable splitea la data en dos partes\n",
    "3. Repetir el proceso 1 y 2 para las partes más pequeñas\n",
    "\n",
    "Queremos decidir que variable (Telefono o edad) es más útil para determinar quién va a elegir una página y tomar a esta variable cómo root del árbol. Después vamos a iterar sobre las ramas, siempre tomando la variable más detemrinante para cada bifuracion."
   ],
   "metadata": {
    "collapsed": false,
    "pycharm": {
     "name": "#%% md\n"
    }
   }
  },
  {
   "cell_type": "markdown",
   "source": [
    "## A. Discretización de variables\n",
    "\n",
    "Discretizar significa dividir la variable en subvariables. Por ejemplo, si tenemos una variable de edad, podemos dividirla en subvariables de edad de 0 a 10, de 11 a 20, de 21 a 30, etc. Es muy útil para tener insights en la data y para poder compararla con otras variables. Además de ser útiles en nuestro caso para ejemplificar el proceso de entrenamiento de un árbol de decisión.\n",
    "\n",
    "Hay muchas maneras de lograrlo"
   ],
   "metadata": {
    "collapsed": false,
    "pycharm": {
     "name": "#%% md\n"
    }
   }
  },
  {
   "cell_type": "code",
   "execution_count": 9,
   "outputs": [],
   "source": [
    "def joven_adulto(edad):\n",
    "    '''funcion que divide la edad en grupos de edad'''\n",
    "    if edad <= 20:\n",
    "        return \"Joven\"\n",
    "    elif edad > 20:\n",
    "        return \"Adulto\""
   ],
   "metadata": {
    "collapsed": false,
    "pycharm": {
     "name": "#%%\n"
    }
   }
  },
  {
   "cell_type": "markdown",
   "source": [
    "### A.1 Apply\n",
    "\n",
    "Apply pertenece a la librería Pandas y sirve para aplicar una funcion a una columna.\n",
    "\n",
    "En este caso, aplicamos la funcion young_Adulto a la columna edad. La columna edad se va a llenar con los valores de la funcion young_Adulto. Objetos que se pasan a apply son de tipo Series cuyo indice es un índice del dataframe o la columna.\n",
    "\n",
    "```python\n",
    "DataFrame.apply(func, axis=0, raw=False, result_type=None, args=(), **kwargs)[source]\n",
    "```"
   ],
   "metadata": {
    "collapsed": false,
    "pycharm": {
     "name": "#%% md\n"
    }
   }
  },
  {
   "cell_type": "code",
   "execution_count": 10,
   "outputs": [
    {
     "data": {
      "text/plain": "         Telefono  Edad                        Página edad_discreta\nClienteA   Iphone    15         https://athleanx.com/         Joven\nClienteB   Iphone    25        https://www.chess.com/        Adulto\nClienteC  Android    32  https://www.lanacion.com.ar/        Adulto\nClienteD   Iphone    35        https://www.chess.com/        Adulto\nClienteE  Android    12         https://athleanx.com/         Joven\nClienteF  Android    14         https://athleanx.com/         Joven",
      "text/html": "<div>\n<style scoped>\n    .dataframe tbody tr th:only-of-type {\n        vertical-align: middle;\n    }\n\n    .dataframe tbody tr th {\n        vertical-align: top;\n    }\n\n    .dataframe thead th {\n        text-align: right;\n    }\n</style>\n<table border=\"1\" class=\"dataframe\">\n  <thead>\n    <tr style=\"text-align: right;\">\n      <th></th>\n      <th>Telefono</th>\n      <th>Edad</th>\n      <th>Página</th>\n      <th>edad_discreta</th>\n    </tr>\n  </thead>\n  <tbody>\n    <tr>\n      <th>ClienteA</th>\n      <td>Iphone</td>\n      <td>15</td>\n      <td>https://athleanx.com/</td>\n      <td>Joven</td>\n    </tr>\n    <tr>\n      <th>ClienteB</th>\n      <td>Iphone</td>\n      <td>25</td>\n      <td>https://www.chess.com/</td>\n      <td>Adulto</td>\n    </tr>\n    <tr>\n      <th>ClienteC</th>\n      <td>Android</td>\n      <td>32</td>\n      <td>https://www.lanacion.com.ar/</td>\n      <td>Adulto</td>\n    </tr>\n    <tr>\n      <th>ClienteD</th>\n      <td>Iphone</td>\n      <td>35</td>\n      <td>https://www.chess.com/</td>\n      <td>Adulto</td>\n    </tr>\n    <tr>\n      <th>ClienteE</th>\n      <td>Android</td>\n      <td>12</td>\n      <td>https://athleanx.com/</td>\n      <td>Joven</td>\n    </tr>\n    <tr>\n      <th>ClienteF</th>\n      <td>Android</td>\n      <td>14</td>\n      <td>https://athleanx.com/</td>\n      <td>Joven</td>\n    </tr>\n  </tbody>\n</table>\n</div>"
     },
     "execution_count": 10,
     "metadata": {},
     "output_type": "execute_result"
    }
   ],
   "source": [
    "dataframe[\"edad_discreta\"] = dataframe[\"Edad\"].apply(joven_adulto)\n",
    "dataframe"
   ],
   "metadata": {
    "collapsed": false,
    "pycharm": {
     "name": "#%%\n"
    }
   }
  },
  {
   "cell_type": "markdown",
   "source": [
    "### A.2 List Comprehension\n",
    "\n",
    "Para discretizar con list comprehension podemos usar una lista de tuplas."
   ],
   "metadata": {
    "collapsed": false,
    "pycharm": {
     "name": "#%% md\n"
    }
   }
  },
  {
   "cell_type": "code",
   "execution_count": 11,
   "outputs": [
    {
     "data": {
      "text/plain": "         Telefono  Edad                        Página edad_discreta  \\\nClienteA   Iphone    15         https://athleanx.com/         Joven   \nClienteB   Iphone    25        https://www.chess.com/        Adulto   \nClienteC  Android    32  https://www.lanacion.com.ar/        Adulto   \nClienteD   Iphone    35        https://www.chess.com/        Adulto   \nClienteE  Android    12         https://athleanx.com/         Joven   \nClienteF  Android    14         https://athleanx.com/         Joven   \n\n         edad_discreta_list_comprehsion  \nClienteA                          Joven  \nClienteB                         Adulto  \nClienteC                         Adulto  \nClienteD                         Adulto  \nClienteE                          Joven  \nClienteF                          Joven  ",
      "text/html": "<div>\n<style scoped>\n    .dataframe tbody tr th:only-of-type {\n        vertical-align: middle;\n    }\n\n    .dataframe tbody tr th {\n        vertical-align: top;\n    }\n\n    .dataframe thead th {\n        text-align: right;\n    }\n</style>\n<table border=\"1\" class=\"dataframe\">\n  <thead>\n    <tr style=\"text-align: right;\">\n      <th></th>\n      <th>Telefono</th>\n      <th>Edad</th>\n      <th>Página</th>\n      <th>edad_discreta</th>\n      <th>edad_discreta_list_comprehsion</th>\n    </tr>\n  </thead>\n  <tbody>\n    <tr>\n      <th>ClienteA</th>\n      <td>Iphone</td>\n      <td>15</td>\n      <td>https://athleanx.com/</td>\n      <td>Joven</td>\n      <td>Joven</td>\n    </tr>\n    <tr>\n      <th>ClienteB</th>\n      <td>Iphone</td>\n      <td>25</td>\n      <td>https://www.chess.com/</td>\n      <td>Adulto</td>\n      <td>Adulto</td>\n    </tr>\n    <tr>\n      <th>ClienteC</th>\n      <td>Android</td>\n      <td>32</td>\n      <td>https://www.lanacion.com.ar/</td>\n      <td>Adulto</td>\n      <td>Adulto</td>\n    </tr>\n    <tr>\n      <th>ClienteD</th>\n      <td>Iphone</td>\n      <td>35</td>\n      <td>https://www.chess.com/</td>\n      <td>Adulto</td>\n      <td>Adulto</td>\n    </tr>\n    <tr>\n      <th>ClienteE</th>\n      <td>Android</td>\n      <td>12</td>\n      <td>https://athleanx.com/</td>\n      <td>Joven</td>\n      <td>Joven</td>\n    </tr>\n    <tr>\n      <th>ClienteF</th>\n      <td>Android</td>\n      <td>14</td>\n      <td>https://athleanx.com/</td>\n      <td>Joven</td>\n      <td>Joven</td>\n    </tr>\n  </tbody>\n</table>\n</div>"
     },
     "execution_count": 11,
     "metadata": {},
     "output_type": "execute_result"
    }
   ],
   "source": [
    "dataframe[\"edad_discreta_list_comprehsion\"] = [joven_adulto(edad) for edad in dataframe[\"Edad\"]]\n",
    "dataframe"
   ],
   "metadata": {
    "collapsed": false,
    "pycharm": {
     "name": "#%%\n"
    }
   }
  },
  {
   "cell_type": "markdown",
   "source": [
    "### A.3 Dataframe.loc\n",
    ".loc sirve para acceder a una fila o columna de un dataframe. En este caso, accedemos a las filas  y a la columna \"Edad\". Asignamos el valor de la condición. Creamos una nueva columna con el valor de la condición."
   ],
   "metadata": {
    "collapsed": false,
    "pycharm": {
     "name": "#%% md\n"
    }
   }
  },
  {
   "cell_type": "code",
   "execution_count": 12,
   "outputs": [
    {
     "data": {
      "text/plain": "         Telefono  Edad                        Página edad_discreta  \\\nClienteA   Iphone    15         https://athleanx.com/         Joven   \nClienteB   Iphone    25        https://www.chess.com/        Adulto   \nClienteC  Android    32  https://www.lanacion.com.ar/        Adulto   \nClienteD   Iphone    35        https://www.chess.com/        Adulto   \nClienteE  Android    12         https://athleanx.com/         Joven   \nClienteF  Android    14         https://athleanx.com/         Joven   \n\n         edad_discreta_list_comprehsion edad_discreta_loc  \nClienteA                          Joven             Joven  \nClienteB                         Adulto            Adulto  \nClienteC                         Adulto            Adulto  \nClienteD                         Adulto            Adulto  \nClienteE                          Joven             Joven  \nClienteF                          Joven             Joven  ",
      "text/html": "<div>\n<style scoped>\n    .dataframe tbody tr th:only-of-type {\n        vertical-align: middle;\n    }\n\n    .dataframe tbody tr th {\n        vertical-align: top;\n    }\n\n    .dataframe thead th {\n        text-align: right;\n    }\n</style>\n<table border=\"1\" class=\"dataframe\">\n  <thead>\n    <tr style=\"text-align: right;\">\n      <th></th>\n      <th>Telefono</th>\n      <th>Edad</th>\n      <th>Página</th>\n      <th>edad_discreta</th>\n      <th>edad_discreta_list_comprehsion</th>\n      <th>edad_discreta_loc</th>\n    </tr>\n  </thead>\n  <tbody>\n    <tr>\n      <th>ClienteA</th>\n      <td>Iphone</td>\n      <td>15</td>\n      <td>https://athleanx.com/</td>\n      <td>Joven</td>\n      <td>Joven</td>\n      <td>Joven</td>\n    </tr>\n    <tr>\n      <th>ClienteB</th>\n      <td>Iphone</td>\n      <td>25</td>\n      <td>https://www.chess.com/</td>\n      <td>Adulto</td>\n      <td>Adulto</td>\n      <td>Adulto</td>\n    </tr>\n    <tr>\n      <th>ClienteC</th>\n      <td>Android</td>\n      <td>32</td>\n      <td>https://www.lanacion.com.ar/</td>\n      <td>Adulto</td>\n      <td>Adulto</td>\n      <td>Adulto</td>\n    </tr>\n    <tr>\n      <th>ClienteD</th>\n      <td>Iphone</td>\n      <td>35</td>\n      <td>https://www.chess.com/</td>\n      <td>Adulto</td>\n      <td>Adulto</td>\n      <td>Adulto</td>\n    </tr>\n    <tr>\n      <th>ClienteE</th>\n      <td>Android</td>\n      <td>12</td>\n      <td>https://athleanx.com/</td>\n      <td>Joven</td>\n      <td>Joven</td>\n      <td>Joven</td>\n    </tr>\n    <tr>\n      <th>ClienteF</th>\n      <td>Android</td>\n      <td>14</td>\n      <td>https://athleanx.com/</td>\n      <td>Joven</td>\n      <td>Joven</td>\n      <td>Joven</td>\n    </tr>\n  </tbody>\n</table>\n</div>"
     },
     "execution_count": 12,
     "metadata": {},
     "output_type": "execute_result"
    }
   ],
   "source": [
    "dataframe.loc[dataframe[\"Edad\"] <= 20,  'edad_discreta_loc'] = \"Joven\"\n",
    "dataframe.loc[dataframe[\"Edad\"] > 20,  'edad_discreta_loc'] = \"Adulto\"\n",
    "dataframe"
   ],
   "metadata": {
    "collapsed": false,
    "pycharm": {
     "name": "#%%\n"
    }
   }
  },
  {
   "cell_type": "markdown",
   "source": [
    "### A.4 Dataframe.cut\n",
    "\n",
    "Pandas.cut sirve para discretizar una variable también.\n",
    "\n",
    "```python\n",
    "pandas.cut(x, bins, right=True, labels=None, retbins=False, precision=3, include_lowest=False, duplicates='raise', ordered=True)[source]\n",
    "```\n",
    "\n",
    "Bin values into discrete intervals.\n",
    "\n",
    "Use cut when you need to segment and sort data values into bins. This function is also useful for going from a continuous variable to a categorical variable. For example, cut could convert ages to groups of age ranges. Supports binning into an equal number of bins, or a pre-specified array of bins."
   ],
   "metadata": {
    "collapsed": false,
    "pycharm": {
     "name": "#%% md\n"
    }
   }
  },
  {
   "cell_type": "code",
   "execution_count": 13,
   "outputs": [
    {
     "data": {
      "text/plain": "         Telefono  Edad                        Página edad_discreta  \\\nClienteA   Iphone    15         https://athleanx.com/         Joven   \nClienteB   Iphone    25        https://www.chess.com/        Adulto   \nClienteC  Android    32  https://www.lanacion.com.ar/        Adulto   \nClienteD   Iphone    35        https://www.chess.com/        Adulto   \nClienteE  Android    12         https://athleanx.com/         Joven   \nClienteF  Android    14         https://athleanx.com/         Joven   \n\n         edad_discreta_list_comprehsion edad_discreta_loc edad_discreta_cut  \nClienteA                          Joven             Joven             Joven  \nClienteB                         Adulto            Adulto            Adulto  \nClienteC                         Adulto            Adulto            Adulto  \nClienteD                         Adulto            Adulto            Adulto  \nClienteE                          Joven             Joven             Joven  \nClienteF                          Joven             Joven             Joven  ",
      "text/html": "<div>\n<style scoped>\n    .dataframe tbody tr th:only-of-type {\n        vertical-align: middle;\n    }\n\n    .dataframe tbody tr th {\n        vertical-align: top;\n    }\n\n    .dataframe thead th {\n        text-align: right;\n    }\n</style>\n<table border=\"1\" class=\"dataframe\">\n  <thead>\n    <tr style=\"text-align: right;\">\n      <th></th>\n      <th>Telefono</th>\n      <th>Edad</th>\n      <th>Página</th>\n      <th>edad_discreta</th>\n      <th>edad_discreta_list_comprehsion</th>\n      <th>edad_discreta_loc</th>\n      <th>edad_discreta_cut</th>\n    </tr>\n  </thead>\n  <tbody>\n    <tr>\n      <th>ClienteA</th>\n      <td>Iphone</td>\n      <td>15</td>\n      <td>https://athleanx.com/</td>\n      <td>Joven</td>\n      <td>Joven</td>\n      <td>Joven</td>\n      <td>Joven</td>\n    </tr>\n    <tr>\n      <th>ClienteB</th>\n      <td>Iphone</td>\n      <td>25</td>\n      <td>https://www.chess.com/</td>\n      <td>Adulto</td>\n      <td>Adulto</td>\n      <td>Adulto</td>\n      <td>Adulto</td>\n    </tr>\n    <tr>\n      <th>ClienteC</th>\n      <td>Android</td>\n      <td>32</td>\n      <td>https://www.lanacion.com.ar/</td>\n      <td>Adulto</td>\n      <td>Adulto</td>\n      <td>Adulto</td>\n      <td>Adulto</td>\n    </tr>\n    <tr>\n      <th>ClienteD</th>\n      <td>Iphone</td>\n      <td>35</td>\n      <td>https://www.chess.com/</td>\n      <td>Adulto</td>\n      <td>Adulto</td>\n      <td>Adulto</td>\n      <td>Adulto</td>\n    </tr>\n    <tr>\n      <th>ClienteE</th>\n      <td>Android</td>\n      <td>12</td>\n      <td>https://athleanx.com/</td>\n      <td>Joven</td>\n      <td>Joven</td>\n      <td>Joven</td>\n      <td>Joven</td>\n    </tr>\n    <tr>\n      <th>ClienteF</th>\n      <td>Android</td>\n      <td>14</td>\n      <td>https://athleanx.com/</td>\n      <td>Joven</td>\n      <td>Joven</td>\n      <td>Joven</td>\n      <td>Joven</td>\n    </tr>\n  </tbody>\n</table>\n</div>"
     },
     "execution_count": 13,
     "metadata": {},
     "output_type": "execute_result"
    }
   ],
   "source": [
    "dataframe[\"edad_discreta_cut\"] = pd.cut(dataframe[\"Edad\"], bins=[0,20,99], labels=[\"Joven\",\"Adulto\"])\n",
    "dataframe"
   ],
   "metadata": {
    "collapsed": false,
    "pycharm": {
     "name": "#%%\n"
    }
   }
  },
  {
   "cell_type": "markdown",
   "source": [
    "### B. Drop Columns"
   ],
   "metadata": {
    "collapsed": false,
    "pycharm": {
     "name": "#%% md\n"
    }
   }
  },
  {
   "cell_type": "code",
   "execution_count": 14,
   "outputs": [
    {
     "data": {
      "text/plain": "['edad_discreta',\n 'edad_discreta_list_comprehsion',\n 'edad_discreta_loc',\n 'edad_discreta_cut']"
     },
     "execution_count": 14,
     "metadata": {},
     "output_type": "execute_result"
    }
   ],
   "source": [
    "columns_to_drop = [col for col in dataframe.columns if \"_\" in col]\n",
    "columns_to_drop"
   ],
   "metadata": {
    "collapsed": false,
    "pycharm": {
     "name": "#%%\n"
    }
   }
  },
  {
   "cell_type": "code",
   "execution_count": 15,
   "outputs": [
    {
     "data": {
      "text/plain": "         Telefono  Edad                        Página\nClienteA   Iphone    15         https://athleanx.com/\nClienteB   Iphone    25        https://www.chess.com/\nClienteC  Android    32  https://www.lanacion.com.ar/\nClienteD   Iphone    35        https://www.chess.com/\nClienteE  Android    12         https://athleanx.com/\nClienteF  Android    14         https://athleanx.com/",
      "text/html": "<div>\n<style scoped>\n    .dataframe tbody tr th:only-of-type {\n        vertical-align: middle;\n    }\n\n    .dataframe tbody tr th {\n        vertical-align: top;\n    }\n\n    .dataframe thead th {\n        text-align: right;\n    }\n</style>\n<table border=\"1\" class=\"dataframe\">\n  <thead>\n    <tr style=\"text-align: right;\">\n      <th></th>\n      <th>Telefono</th>\n      <th>Edad</th>\n      <th>Página</th>\n    </tr>\n  </thead>\n  <tbody>\n    <tr>\n      <th>ClienteA</th>\n      <td>Iphone</td>\n      <td>15</td>\n      <td>https://athleanx.com/</td>\n    </tr>\n    <tr>\n      <th>ClienteB</th>\n      <td>Iphone</td>\n      <td>25</td>\n      <td>https://www.chess.com/</td>\n    </tr>\n    <tr>\n      <th>ClienteC</th>\n      <td>Android</td>\n      <td>32</td>\n      <td>https://www.lanacion.com.ar/</td>\n    </tr>\n    <tr>\n      <th>ClienteD</th>\n      <td>Iphone</td>\n      <td>35</td>\n      <td>https://www.chess.com/</td>\n    </tr>\n    <tr>\n      <th>ClienteE</th>\n      <td>Android</td>\n      <td>12</td>\n      <td>https://athleanx.com/</td>\n    </tr>\n    <tr>\n      <th>ClienteF</th>\n      <td>Android</td>\n      <td>14</td>\n      <td>https://athleanx.com/</td>\n    </tr>\n  </tbody>\n</table>\n</div>"
     },
     "execution_count": 15,
     "metadata": {},
     "output_type": "execute_result"
    }
   ],
   "source": [
    "dataframe.drop(columns=columns_to_drop, inplace=True)\n",
    "dataframe"
   ],
   "metadata": {
    "collapsed": false,
    "pycharm": {
     "name": "#%%\n"
    }
   }
  },
  {
   "cell_type": "markdown",
   "source": [
    "## Elijo una manera de discretizar\n",
    "Sobreescribo el nombre de la columna con el nombre de la variable discretizada"
   ],
   "metadata": {
    "collapsed": false,
    "pycharm": {
     "name": "#%% md\n"
    }
   }
  },
  {
   "cell_type": "code",
   "execution_count": 16,
   "outputs": [],
   "source": [
    "dataframe[\"Edad\"] = dataframe[\"Edad\"].apply(joven_adulto)"
   ],
   "metadata": {
    "collapsed": false,
    "pycharm": {
     "name": "#%%\n"
    }
   }
  },
  {
   "cell_type": "code",
   "execution_count": 17,
   "outputs": [
    {
     "data": {
      "text/plain": "         Telefono    Edad                        Página\nClienteA   Iphone   Joven         https://athleanx.com/\nClienteB   Iphone  Adulto        https://www.chess.com/\nClienteC  Android  Adulto  https://www.lanacion.com.ar/\nClienteD   Iphone  Adulto        https://www.chess.com/\nClienteE  Android   Joven         https://athleanx.com/\nClienteF  Android   Joven         https://athleanx.com/",
      "text/html": "<div>\n<style scoped>\n    .dataframe tbody tr th:only-of-type {\n        vertical-align: middle;\n    }\n\n    .dataframe tbody tr th {\n        vertical-align: top;\n    }\n\n    .dataframe thead th {\n        text-align: right;\n    }\n</style>\n<table border=\"1\" class=\"dataframe\">\n  <thead>\n    <tr style=\"text-align: right;\">\n      <th></th>\n      <th>Telefono</th>\n      <th>Edad</th>\n      <th>Página</th>\n    </tr>\n  </thead>\n  <tbody>\n    <tr>\n      <th>ClienteA</th>\n      <td>Iphone</td>\n      <td>Joven</td>\n      <td>https://athleanx.com/</td>\n    </tr>\n    <tr>\n      <th>ClienteB</th>\n      <td>Iphone</td>\n      <td>Adulto</td>\n      <td>https://www.chess.com/</td>\n    </tr>\n    <tr>\n      <th>ClienteC</th>\n      <td>Android</td>\n      <td>Adulto</td>\n      <td>https://www.lanacion.com.ar/</td>\n    </tr>\n    <tr>\n      <th>ClienteD</th>\n      <td>Iphone</td>\n      <td>Adulto</td>\n      <td>https://www.chess.com/</td>\n    </tr>\n    <tr>\n      <th>ClienteE</th>\n      <td>Android</td>\n      <td>Joven</td>\n      <td>https://athleanx.com/</td>\n    </tr>\n    <tr>\n      <th>ClienteF</th>\n      <td>Android</td>\n      <td>Joven</td>\n      <td>https://athleanx.com/</td>\n    </tr>\n  </tbody>\n</table>\n</div>"
     },
     "execution_count": 17,
     "metadata": {},
     "output_type": "execute_result"
    }
   ],
   "source": [
    "dataframe"
   ],
   "metadata": {
    "collapsed": false,
    "pycharm": {
     "name": "#%%\n"
    }
   }
  },
  {
   "cell_type": "markdown",
   "source": [
    "## Groupby\n",
    "### Split por telefono\n",
    "\n",
    "Renaming Columns After Groupy.\n",
    "Sometimes you want to change the name of your columns after grouping to better describe the data they hold or you want to perform more than one operation on the same column (e.g. max and mean of the same column) without ending up with a MultiIndex. This can be achieved by passing a dictionary with your new column name as the key and a tuple with (old column name, operation) as a value to the agg function.\n",
    "\n",
    "```python\n",
    "df.groupby(grouping_column).agg(\n",
    "    new_col_name =  ('old_col_name', 'sum'),\n",
    "    new_col_name_2 = ('old_col_name', 'mean')\n",
    "    )\n",
    "```\n"
   ],
   "metadata": {
    "collapsed": false,
    "pycharm": {
     "name": "#%% md\n"
    }
   }
  },
  {
   "cell_type": "code",
   "execution_count": 18,
   "outputs": [
    {
     "data": {
      "text/plain": "          cantidad_de_clientes\nTelefono                      \nAndroid                      3\nIphone                       3",
      "text/html": "<div>\n<style scoped>\n    .dataframe tbody tr th:only-of-type {\n        vertical-align: middle;\n    }\n\n    .dataframe tbody tr th {\n        vertical-align: top;\n    }\n\n    .dataframe thead th {\n        text-align: right;\n    }\n</style>\n<table border=\"1\" class=\"dataframe\">\n  <thead>\n    <tr style=\"text-align: right;\">\n      <th></th>\n      <th>cantidad_de_clientes</th>\n    </tr>\n    <tr>\n      <th>Telefono</th>\n      <th></th>\n    </tr>\n  </thead>\n  <tbody>\n    <tr>\n      <th>Android</th>\n      <td>3</td>\n    </tr>\n    <tr>\n      <th>Iphone</th>\n      <td>3</td>\n    </tr>\n  </tbody>\n</table>\n</div>"
     },
     "execution_count": 18,
     "metadata": {},
     "output_type": "execute_result"
    }
   ],
   "source": [
    "dataframe.groupby(\"Telefono\").agg(\n",
    "    cantidad_de_clientes =  ('Página', 'count')\n",
    "    )"
   ],
   "metadata": {
    "collapsed": false,
    "pycharm": {
     "name": "#%%\n"
    }
   }
  },
  {
   "cell_type": "code",
   "execution_count": 19,
   "outputs": [
    {
     "data": {
      "text/plain": "                                       cantidad_de_clientes\nTelefono Página                                            \nAndroid  https://athleanx.com/                            2\n         https://www.lanacion.com.ar/                     1\nIphone   https://athleanx.com/                            1\n         https://www.chess.com/                           2",
      "text/html": "<div>\n<style scoped>\n    .dataframe tbody tr th:only-of-type {\n        vertical-align: middle;\n    }\n\n    .dataframe tbody tr th {\n        vertical-align: top;\n    }\n\n    .dataframe thead th {\n        text-align: right;\n    }\n</style>\n<table border=\"1\" class=\"dataframe\">\n  <thead>\n    <tr style=\"text-align: right;\">\n      <th></th>\n      <th></th>\n      <th>cantidad_de_clientes</th>\n    </tr>\n    <tr>\n      <th>Telefono</th>\n      <th>Página</th>\n      <th></th>\n    </tr>\n  </thead>\n  <tbody>\n    <tr>\n      <th rowspan=\"2\" valign=\"top\">Android</th>\n      <th>https://athleanx.com/</th>\n      <td>2</td>\n    </tr>\n    <tr>\n      <th>https://www.lanacion.com.ar/</th>\n      <td>1</td>\n    </tr>\n    <tr>\n      <th rowspan=\"2\" valign=\"top\">Iphone</th>\n      <th>https://athleanx.com/</th>\n      <td>1</td>\n    </tr>\n    <tr>\n      <th>https://www.chess.com/</th>\n      <td>2</td>\n    </tr>\n  </tbody>\n</table>\n</div>"
     },
     "execution_count": 19,
     "metadata": {},
     "output_type": "execute_result"
    }
   ],
   "source": [
    "dataframe.groupby([\"Telefono\",\"Página\"]).agg(\n",
    "    cantidad_de_clientes =  ('Página', 'count')\n",
    "    )"
   ],
   "metadata": {
    "collapsed": false,
    "pycharm": {
     "name": "#%%\n"
    }
   }
  },
  {
   "cell_type": "markdown",
   "source": [
    "<img alt=\"groupby\" src=\"/Users/federicomoreno/PycharmProjects/curso/lewinger_moreno_ucema/figures/groupby.png\"/>"
   ],
   "metadata": {
    "collapsed": false,
    "pycharm": {
     "name": "#%% md\n"
    }
   }
  },
  {
   "cell_type": "markdown",
   "source": [
    "## Joven or Adulto\n",
    "\n",
    "Split por edad"
   ],
   "metadata": {
    "collapsed": false,
    "pycharm": {
     "name": "#%% md\n"
    }
   }
  },
  {
   "cell_type": "code",
   "execution_count": 20,
   "outputs": [
    {
     "data": {
      "text/plain": "                                     cantidad_de_clientes\nEdad   Página                                            \nAdulto https://www.chess.com/                           2\n       https://www.lanacion.com.ar/                     1\nJoven  https://athleanx.com/                            3",
      "text/html": "<div>\n<style scoped>\n    .dataframe tbody tr th:only-of-type {\n        vertical-align: middle;\n    }\n\n    .dataframe tbody tr th {\n        vertical-align: top;\n    }\n\n    .dataframe thead th {\n        text-align: right;\n    }\n</style>\n<table border=\"1\" class=\"dataframe\">\n  <thead>\n    <tr style=\"text-align: right;\">\n      <th></th>\n      <th></th>\n      <th>cantidad_de_clientes</th>\n    </tr>\n    <tr>\n      <th>Edad</th>\n      <th>Página</th>\n      <th></th>\n    </tr>\n  </thead>\n  <tbody>\n    <tr>\n      <th rowspan=\"2\" valign=\"top\">Adulto</th>\n      <th>https://www.chess.com/</th>\n      <td>2</td>\n    </tr>\n    <tr>\n      <th>https://www.lanacion.com.ar/</th>\n      <td>1</td>\n    </tr>\n    <tr>\n      <th>Joven</th>\n      <th>https://athleanx.com/</th>\n      <td>3</td>\n    </tr>\n  </tbody>\n</table>\n</div>"
     },
     "execution_count": 20,
     "metadata": {},
     "output_type": "execute_result"
    }
   ],
   "source": [
    "dataframe.groupby([\"Edad\",\"Página\"]).agg(\n",
    "    cantidad_de_clientes =  ('Página', 'count')\n",
    "    )"
   ],
   "metadata": {
    "collapsed": false,
    "pycharm": {
     "name": "#%%\n"
    }
   }
  },
  {
   "cell_type": "markdown",
   "source": [
    "<img alt=\"groupby\" src=\"/Users/federicomoreno/PycharmProjects/curso/lewinger_moreno_ucema/figures/split_edad.png\"/>"
   ],
   "metadata": {
    "collapsed": false,
    "pycharm": {
     "name": "#%% md\n"
    }
   }
  },
  {
   "cell_type": "markdown",
   "source": [
    "# Accuracy\n",
    "\n",
    "Accuracy es una métrica de performance que nos permite medir la exactitud de nuestra predicción.\n",
    "\n",
    "* Clasificador 1: Qué télefono usas?\n",
    "• Si la respuesta “iPhone,” entonces la mayoría usan chess.com y recomendamos entonces chess.com. Le vamos a pegar a 2 de 3.\n",
    "• Pero si la respuesta es  “Android,” vamos a recomendar athlenx y le pegamos a 2 de 3.\n",
    "* Clasificador 2: Cuál es tu edad?\n",
    "• Si la respuesta es  “joven,” then we notice that all the Joven people downloaded Atom\n",
    "Count, so that is the recommendation we make. We are correct three times out of three.\n",
    "• Si la Respuesta es adulto recomendamos chess.com y estamos correctos dos de tres."
   ],
   "metadata": {
    "collapsed": false,
    "pycharm": {
     "name": "#%% md\n"
    }
   }
  },
  {
   "cell_type": "markdown",
   "source": [],
   "metadata": {
    "collapsed": false,
    "pycharm": {
     "name": "#%% md\n"
    }
   }
  },
  {
   "cell_type": "code",
   "execution_count": 21,
   "outputs": [],
   "source": [
    "def clasificar_por_edad(edad):\n",
    "    if edad == \"Joven\":\n",
    "        return \"https://athleanx.com/\"\n",
    "    elif edad == \"Adulto\":\n",
    "        return \"https://www.chess.com/\"\n",
    "\n",
    "def clasificar_por_telefono(Telefono):\n",
    "    if Telefono ==  \"Iphone\":\n",
    "        return \"https://www.chess.com/\"\n",
    "    elif Telefono == \"Android\":\n",
    "        return \"https://athleanx.com/\""
   ],
   "metadata": {
    "collapsed": false,
    "pycharm": {
     "name": "#%%\n"
    }
   }
  },
  {
   "cell_type": "code",
   "execution_count": 22,
   "outputs": [],
   "source": [
    "dataframe[\"split_edad\"] = dataframe[\"Edad\"].apply(clasificar_por_edad)\n",
    "dataframe[\"split_telefono\"] = dataframe[\"Telefono\"].apply(clasificar_por_telefono)"
   ],
   "metadata": {
    "collapsed": false,
    "pycharm": {
     "name": "#%%\n"
    }
   }
  },
  {
   "cell_type": "code",
   "execution_count": 23,
   "outputs": [],
   "source": [
    "dataframe[\"True_split_telefono\"] = dataframe[\"Página\"] == dataframe[\"split_telefono\"]"
   ],
   "metadata": {
    "collapsed": false,
    "pycharm": {
     "name": "#%%\n"
    }
   }
  },
  {
   "cell_type": "code",
   "execution_count": 24,
   "outputs": [
    {
     "data": {
      "text/plain": "                     cantidad_de_clientes\nTrue_split_telefono                      \nFalse                                   2\nTrue                                    4",
      "text/html": "<div>\n<style scoped>\n    .dataframe tbody tr th:only-of-type {\n        vertical-align: middle;\n    }\n\n    .dataframe tbody tr th {\n        vertical-align: top;\n    }\n\n    .dataframe thead th {\n        text-align: right;\n    }\n</style>\n<table border=\"1\" class=\"dataframe\">\n  <thead>\n    <tr style=\"text-align: right;\">\n      <th></th>\n      <th>cantidad_de_clientes</th>\n    </tr>\n    <tr>\n      <th>True_split_telefono</th>\n      <th></th>\n    </tr>\n  </thead>\n  <tbody>\n    <tr>\n      <th>False</th>\n      <td>2</td>\n    </tr>\n    <tr>\n      <th>True</th>\n      <td>4</td>\n    </tr>\n  </tbody>\n</table>\n</div>"
     },
     "execution_count": 24,
     "metadata": {},
     "output_type": "execute_result"
    }
   ],
   "source": [
    "dataframe.groupby([\"True_split_telefono\"]).agg(\n",
    "    cantidad_de_clientes =  ('True_split_telefono', 'count')\n",
    "    )"
   ],
   "metadata": {
    "collapsed": false,
    "pycharm": {
     "name": "#%%\n"
    }
   }
  },
  {
   "cell_type": "code",
   "execution_count": 23,
   "outputs": [
    {
     "name": "stdout",
     "output_type": "stream",
     "text": [
      "Accuracy Télefono: 0.6666666666666666\n"
     ]
    }
   ],
   "source": [
    "accuracy_split_telefono = (4)/(5+1)\n",
    "print(f\"Accuracy Télefono: {accuracy_split_telefono}\")"
   ],
   "metadata": {
    "collapsed": false,
    "pycharm": {
     "name": "#%%\n"
    }
   }
  },
  {
   "cell_type": "code",
   "execution_count": 24,
   "outputs": [
    {
     "data": {
      "text/plain": "                 cantidad_de_clientes\nTrue_split_edad                      \nFalse                               1\nTrue                                5",
      "text/html": "<div>\n<style scoped>\n    .dataframe tbody tr th:only-of-type {\n        vertical-align: middle;\n    }\n\n    .dataframe tbody tr th {\n        vertical-align: top;\n    }\n\n    .dataframe thead th {\n        text-align: right;\n    }\n</style>\n<table border=\"1\" class=\"dataframe\">\n  <thead>\n    <tr style=\"text-align: right;\">\n      <th></th>\n      <th>cantidad_de_clientes</th>\n    </tr>\n    <tr>\n      <th>True_split_edad</th>\n      <th></th>\n    </tr>\n  </thead>\n  <tbody>\n    <tr>\n      <th>False</th>\n      <td>1</td>\n    </tr>\n    <tr>\n      <th>True</th>\n      <td>5</td>\n    </tr>\n  </tbody>\n</table>\n</div>"
     },
     "execution_count": 24,
     "metadata": {},
     "output_type": "execute_result"
    }
   ],
   "source": [
    "dataframe[\"True_split_edad\"] = dataframe[\"Página\"] == dataframe[\"split_edad\"]\n",
    "dataframe.groupby([\"True_split_edad\"]).agg(\n",
    "    cantidad_de_clientes =  ('True_split_edad', 'count')\n",
    "    )"
   ],
   "metadata": {
    "collapsed": false,
    "pycharm": {
     "name": "#%%\n"
    }
   }
  },
  {
   "cell_type": "code",
   "execution_count": 25,
   "outputs": [
    {
     "name": "stdout",
     "output_type": "stream",
     "text": [
      "Accuracy split_edad: 0.8333333333333334\n"
     ]
    }
   ],
   "source": [
    "accuracy_split_edad = (5)/(5+1)\n",
    "print(f\"Accuracy split_edad: {accuracy_split_edad}\")"
   ],
   "metadata": {
    "collapsed": false,
    "pycharm": {
     "name": "#%%\n"
    }
   }
  },
  {
   "cell_type": "code",
   "execution_count": 26,
   "outputs": [],
   "source": [
    "from sklearn.metrics import accuracy_score"
   ],
   "metadata": {
    "collapsed": false,
    "pycharm": {
     "name": "#%%\n"
    }
   }
  },
  {
   "cell_type": "code",
   "execution_count": 27,
   "outputs": [
    {
     "data": {
      "text/plain": "0.6666666666666666"
     },
     "execution_count": 27,
     "metadata": {},
     "output_type": "execute_result"
    }
   ],
   "source": [
    "accuracy_score(dataframe[\"Página\"], dataframe[\"split_telefono\"])"
   ],
   "metadata": {
    "collapsed": false,
    "pycharm": {
     "name": "#%%\n"
    }
   }
  },
  {
   "cell_type": "code",
   "execution_count": 28,
   "outputs": [
    {
     "data": {
      "text/plain": "0.8333333333333334"
     },
     "execution_count": 28,
     "metadata": {},
     "output_type": "execute_result"
    }
   ],
   "source": [
    "accuracy_score(dataframe[\"Página\"], dataframe[\"split_edad\"])"
   ],
   "metadata": {
    "collapsed": false,
    "pycharm": {
     "name": "#%%\n"
    }
   }
  },
  {
   "cell_type": "markdown",
   "source": [
    "## Ejercicio\n",
    "\n",
    "Escriba una función que devuelva el accuracy del modelo"
   ],
   "metadata": {
    "collapsed": false,
    "pycharm": {
     "name": "#%% md\n"
    }
   }
  },
  {
   "cell_type": "code",
   "execution_count": 29,
   "outputs": [
    {
     "data": {
      "text/plain": "0.6666666666666666"
     },
     "execution_count": 29,
     "metadata": {},
     "output_type": "execute_result"
    }
   ],
   "source": [
    "def accuracy_model(df,true_column, predict_column):\n",
    "    \"\"\"Function that returns the accuracy of the model\"\"\"\n",
    "    df[\"True_\"+predict_column] = df[true_column] == df[predict_column]\n",
    "    return df[\"True_\"+predict_column].mean()\n",
    "\n",
    "accuracy_model(dataframe, \"Página\", \"split_telefono\")"
   ],
   "metadata": {
    "collapsed": false,
    "pycharm": {
     "name": "#%%\n"
    }
   }
  },
  {
   "cell_type": "code",
   "execution_count": 30,
   "outputs": [
    {
     "data": {
      "text/plain": "0.8333333333333334"
     },
     "execution_count": 30,
     "metadata": {},
     "output_type": "execute_result"
    }
   ],
   "source": [
    "accuracy_model(dataframe, \"Página\", \"split_edad\")"
   ],
   "metadata": {
    "collapsed": false,
    "pycharm": {
     "name": "#%%\n"
    }
   }
  },
  {
   "cell_type": "markdown",
   "source": [
    "# Gini impurity index\n",
    "\n",
    "\n",
    "In a set with m elements and n classes, with ai elements belonging to the i-th class, the Gini impurity index is defined as:\n",
    "\n",
    "    Gini(S) = 1 - sum(pi*(1-pi))\n",
    "\n",
    "where S is the set of elements, pi is the proportion of elements belonging to the i-th class, and n is the number of classes.\n",
    "\n",
    "El indice de gini permite comparar los splits al ser una medida de la diversidad. Si tenemos un set donde todos los elementos son similares, el indice de gini va a ser bajo y si todos los elementos son diferentes, el indice de gini va a ser alto."
   ],
   "metadata": {
    "collapsed": false,
    "pycharm": {
     "name": "#%% md\n"
    }
   }
  },
  {
   "cell_type": "code",
   "execution_count": 31,
   "outputs": [
    {
     "data": {
      "text/plain": "[3, 2, 1]"
     },
     "execution_count": 31,
     "metadata": {},
     "output_type": "execute_result"
    }
   ],
   "source": [
    "elements = ['athleanx', 'athleanx', 'athleanx', 'chess', 'lanacion', 'chess']\n",
    "def counts(elements):\n",
    "    classes = {}\n",
    "    for element in elements:\n",
    "        if element in classes:\n",
    "            classes[element] += 1\n",
    "        else:\n",
    "            classes[element] = 1\n",
    "    return [classes[e] for e in classes]\n",
    "counts(elements)"
   ],
   "metadata": {
    "collapsed": false,
    "pycharm": {
     "name": "#%%\n"
    }
   }
  },
  {
   "cell_type": "code",
   "execution_count": 32,
   "outputs": [
    {
     "data": {
      "text/plain": "0.6111111111111112"
     },
     "execution_count": 32,
     "metadata": {},
     "output_type": "execute_result"
    }
   ],
   "source": [
    "def gini(elements):\n",
    "    cts = counts(elements)\n",
    "    n = sum(cts)\n",
    "    return 1 - sum([p_i**2/n**2 for p_i in cts])\n",
    "gini(elements)"
   ],
   "metadata": {
    "collapsed": false,
    "pycharm": {
     "name": "#%%\n"
    }
   }
  },
  {
   "cell_type": "markdown",
   "source": [
    "Calsificador 1 (Por télefono)):\n",
    "• hoja izquierda (iPhone): {athleanx, chess, chess}\n",
    "• hoja derecha (Android): {athleanx, athleanx, lanacion}"
   ],
   "metadata": {
    "collapsed": false,
    "pycharm": {
     "name": "#%% md\n"
    }
   }
  },
  {
   "cell_type": "code",
   "execution_count": 33,
   "outputs": [
    {
     "name": "stdout",
     "output_type": "stream",
     "text": [
      "Gini del clasificador 1: 0.4444444444444444\n"
     ]
    }
   ],
   "source": [
    "#Clasificador 1.\n",
    "#¿Es iphone?\n",
    "si_iphone = gini(['athleanx', 'chess', 'chess'])\n",
    "no_iphone = gini(['athleanx', 'athleanx', 'lanacion'])\n",
    "\n",
    "gini_del_clasificador_1 = (si_iphone + no_iphone)/2\n",
    "print(f\"Gini del clasificador 1: {gini_del_clasificador_1}\")"
   ],
   "metadata": {
    "collapsed": false,
    "pycharm": {
     "name": "#%%\n"
    }
   }
  },
  {
   "cell_type": "markdown",
   "source": [
    "Clasificador 2 (Por edad):\n",
    "• hoja izquierda(Joven): {athleanx, athleanx, chess}\n",
    "• hoja derecja(Adulto): {lanacion, chess, chess}"
   ],
   "metadata": {
    "collapsed": false,
    "pycharm": {
     "name": "#%% md\n"
    }
   }
  },
  {
   "cell_type": "code",
   "execution_count": 34,
   "outputs": [
    {
     "name": "stdout",
     "output_type": "stream",
     "text": [
      "Gini del clasificador 2: 0.2222222222222222\n"
     ]
    }
   ],
   "source": [
    "#Clasificador 2.\n",
    "#¿Es joven?\n",
    "si_joven = gini(['athleanx', 'athleanx', 'athleanx'])\n",
    "no_joven = gini(['chess', 'lanacion', 'chess'])\n",
    "print(f\"Gini del clasificador 2: {(si_joven + no_joven)/2}\")"
   ],
   "metadata": {
    "collapsed": false,
    "pycharm": {
     "name": "#%%\n"
    }
   }
  },
  {
   "cell_type": "code",
   "execution_count": 35,
   "outputs": [
    {
     "data": {
      "text/plain": "1.4591479170272446"
     },
     "execution_count": 35,
     "metadata": {},
     "output_type": "execute_result"
    }
   ],
   "source": [
    "import numpy as np\n",
    "def entropy(elements):\n",
    "    if len(elements)==0:\n",
    "        return 0\n",
    "    cts = counts(elements)\n",
    "    n = sum(cts)\n",
    "    props = 1/n*np.array(cts)\n",
    "    return -np.dot(np.log2(props), props)\n",
    "entropy(elements)"
   ],
   "metadata": {
    "collapsed": false,
    "pycharm": {
     "name": "#%%\n"
    }
   }
  },
  {
   "cell_type": "code",
   "execution_count": 36,
   "outputs": [
    {
     "name": "stdout",
     "output_type": "stream",
     "text": [
      "************\n",
      "[] ['athleanx', 'athleanx', 'athleanx', 'chess', 'lanacion', 'chess']\n",
      "Weighted Gini: 0.6111111111111112\n",
      "Weighted entropy: 1.4591479170272443\n",
      "************\n",
      "['athleanx'] ['athleanx', 'athleanx', 'chess', 'lanacion', 'chess']\n",
      "Weighted Gini: 0.5333333333333333\n",
      "Weighted entropy: 1.268273412406135\n",
      "************\n",
      "['athleanx', 'athleanx'] ['athleanx', 'chess', 'lanacion', 'chess']\n",
      "Weighted Gini: 0.41666666666666663\n",
      "Weighted entropy: 1.0\n",
      "************\n",
      "['athleanx', 'athleanx', 'athleanx'] ['chess', 'lanacion', 'chess']\n",
      "Weighted Gini: 0.2222222222222222\n",
      "Weighted entropy: 0.4591479170272448\n",
      "************\n",
      "['athleanx', 'athleanx', 'athleanx', 'chess'] ['lanacion', 'chess']\n",
      "Weighted Gini: 0.41666666666666663\n",
      "Weighted entropy: 0.8741854163060886\n",
      "************\n",
      "['athleanx', 'athleanx', 'athleanx', 'chess', 'lanacion'] ['chess']\n",
      "Weighted Gini: 0.4666666666666667\n",
      "Weighted entropy: 1.1424588287122237\n"
     ]
    }
   ],
   "source": [
    "for i in range(len(elements)):\n",
    "    print(\"************\")\n",
    "    left = elements[:i]\n",
    "    right = elements[i:]\n",
    "    print(left, right)\n",
    "    weighted_gini = 1/len(elements)*(gini(left)*len(left) + gini(right)*len(right))\n",
    "    print(\"Weighted Gini:\", weighted_gini)\n",
    "    weighted_entropy = 1/len(elements)*(entropy(left)*len(left) + entropy(right)*len(right))\n",
    "    print(\"Weighted entropy:\", weighted_entropy)"
   ],
   "metadata": {
    "collapsed": false,
    "pycharm": {
     "name": "#%%\n"
    }
   }
  },
  {
   "cell_type": "code",
   "execution_count": 37,
   "outputs": [],
   "source": [
    "from sklearn.tree import DecisionTreeClassifier"
   ],
   "metadata": {
    "collapsed": false,
    "pycharm": {
     "name": "#%%\n"
    }
   }
  },
  {
   "cell_type": "code",
   "execution_count": 38,
   "outputs": [
    {
     "data": {
      "text/plain": "   Iphone  Android  Joven  Adulto  athleanx  lanacion  chess\n0       1        0      1       0         1         0      0\n1       1        0      0       1         0         0      1\n2       0        1      0       1         0         1      0\n3       1        0      0       1         0         0      1\n4       0        1      1       0         1         0      0\n5       0        1      1       0         1         0      0",
      "text/html": "<div>\n<style scoped>\n    .dataframe tbody tr th:only-of-type {\n        vertical-align: middle;\n    }\n\n    .dataframe tbody tr th {\n        vertical-align: top;\n    }\n\n    .dataframe thead th {\n        text-align: right;\n    }\n</style>\n<table border=\"1\" class=\"dataframe\">\n  <thead>\n    <tr style=\"text-align: right;\">\n      <th></th>\n      <th>Iphone</th>\n      <th>Android</th>\n      <th>Joven</th>\n      <th>Adulto</th>\n      <th>athleanx</th>\n      <th>lanacion</th>\n      <th>chess</th>\n    </tr>\n  </thead>\n  <tbody>\n    <tr>\n      <th>0</th>\n      <td>1</td>\n      <td>0</td>\n      <td>1</td>\n      <td>0</td>\n      <td>1</td>\n      <td>0</td>\n      <td>0</td>\n    </tr>\n    <tr>\n      <th>1</th>\n      <td>1</td>\n      <td>0</td>\n      <td>0</td>\n      <td>1</td>\n      <td>0</td>\n      <td>0</td>\n      <td>1</td>\n    </tr>\n    <tr>\n      <th>2</th>\n      <td>0</td>\n      <td>1</td>\n      <td>0</td>\n      <td>1</td>\n      <td>0</td>\n      <td>1</td>\n      <td>0</td>\n    </tr>\n    <tr>\n      <th>3</th>\n      <td>1</td>\n      <td>0</td>\n      <td>0</td>\n      <td>1</td>\n      <td>0</td>\n      <td>0</td>\n      <td>1</td>\n    </tr>\n    <tr>\n      <th>4</th>\n      <td>0</td>\n      <td>1</td>\n      <td>1</td>\n      <td>0</td>\n      <td>1</td>\n      <td>0</td>\n      <td>0</td>\n    </tr>\n    <tr>\n      <th>5</th>\n      <td>0</td>\n      <td>1</td>\n      <td>1</td>\n      <td>0</td>\n      <td>1</td>\n      <td>0</td>\n      <td>0</td>\n    </tr>\n  </tbody>\n</table>\n</div>"
     },
     "execution_count": 38,
     "metadata": {},
     "output_type": "execute_result"
    }
   ],
   "source": [
    "app_dataset_one_hot = pd.DataFrame(\n",
    "    {'Iphone':[1,1,0,1,0,0],\n",
    "     'Android':[0,0,1,0,1,1],\n",
    "     'Joven':[1,0,0,0,1,1],\n",
    "     'Adulto':[0,1,1,1,0,0],\n",
    "     'athleanx':[1,0,0,0,1,1],\n",
    "     'lanacion':[0,0,1,0,0,0],\n",
    "     'chess':[0,1,0,1,0,0]})\n",
    "app_dataset_one_hot"
   ],
   "metadata": {
    "collapsed": false,
    "pycharm": {
     "name": "#%%\n"
    }
   }
  },
  {
   "cell_type": "code",
   "execution_count": 39,
   "outputs": [
    {
     "data": {
      "text/plain": "   Iphone  Android  Adulto  Joven\n0       1        0       0      1\n1       1        0       1      0\n2       0        1       1      0\n3       1        0       1      0\n4       0        1       0      1\n5       0        1       0      1",
      "text/html": "<div>\n<style scoped>\n    .dataframe tbody tr th:only-of-type {\n        vertical-align: middle;\n    }\n\n    .dataframe tbody tr th {\n        vertical-align: top;\n    }\n\n    .dataframe thead th {\n        text-align: right;\n    }\n</style>\n<table border=\"1\" class=\"dataframe\">\n  <thead>\n    <tr style=\"text-align: right;\">\n      <th></th>\n      <th>Iphone</th>\n      <th>Android</th>\n      <th>Adulto</th>\n      <th>Joven</th>\n    </tr>\n  </thead>\n  <tbody>\n    <tr>\n      <th>0</th>\n      <td>1</td>\n      <td>0</td>\n      <td>0</td>\n      <td>1</td>\n    </tr>\n    <tr>\n      <th>1</th>\n      <td>1</td>\n      <td>0</td>\n      <td>1</td>\n      <td>0</td>\n    </tr>\n    <tr>\n      <th>2</th>\n      <td>0</td>\n      <td>1</td>\n      <td>1</td>\n      <td>0</td>\n    </tr>\n    <tr>\n      <th>3</th>\n      <td>1</td>\n      <td>0</td>\n      <td>1</td>\n      <td>0</td>\n    </tr>\n    <tr>\n      <th>4</th>\n      <td>0</td>\n      <td>1</td>\n      <td>0</td>\n      <td>1</td>\n    </tr>\n    <tr>\n      <th>5</th>\n      <td>0</td>\n      <td>1</td>\n      <td>0</td>\n      <td>1</td>\n    </tr>\n  </tbody>\n</table>\n</div>"
     },
     "execution_count": 39,
     "metadata": {},
     "output_type": "execute_result"
    }
   ],
   "source": [
    "app_dataset_one_hot[['Iphone','Android','Adulto','Joven']]"
   ],
   "metadata": {
    "collapsed": false,
    "pycharm": {
     "name": "#%%\n"
    }
   }
  },
  {
   "cell_type": "code",
   "execution_count": 40,
   "outputs": [],
   "source": [
    "X = app_dataset_one_hot[['Iphone','Android','Adulto','Joven']]\n",
    "y = app_dataset_one_hot[['athleanx','lanacion','chess']]"
   ],
   "metadata": {
    "collapsed": false,
    "pycharm": {
     "name": "#%%\n"
    }
   }
  },
  {
   "cell_type": "code",
   "execution_count": 41,
   "outputs": [
    {
     "data": {
      "text/plain": "1.0"
     },
     "execution_count": 41,
     "metadata": {},
     "output_type": "execute_result"
    }
   ],
   "source": [
    "from sklearn.tree import DecisionTreeClassifier\n",
    "dt = DecisionTreeClassifier()\n",
    "dt.fit(X,y)\n",
    "dt.score(X,y)"
   ],
   "metadata": {
    "collapsed": false,
    "pycharm": {
     "name": "#%%\n"
    }
   }
  },
  {
   "cell_type": "code",
   "execution_count": 42,
   "outputs": [
    {
     "data": {
      "text/plain": "[Text(133.92000000000002, 181.2, 'X[2] <= 0.5\\ngini = 0.407\\nsamples = 6\\nvalue = [[3, 3]\\n[5, 1]\\n[4, 2]]'),\n Text(66.96000000000001, 108.72, 'gini = 0.0\\nsamples = 3\\nvalue = [[0, 3]\\n[3, 0]\\n[3, 0]]'),\n Text(200.88000000000002, 108.72, 'X[0] <= 0.5\\ngini = 0.296\\nsamples = 3\\nvalue = [[3, 0]\\n[2, 1]\\n[1, 2]]'),\n Text(133.92000000000002, 36.23999999999998, 'gini = 0.0\\nsamples = 1\\nvalue = [[1, 0]\\n[0, 1]\\n[1, 0]]'),\n Text(267.84000000000003, 36.23999999999998, 'gini = 0.0\\nsamples = 2\\nvalue = [[2, 0]\\n[2, 0]\\n[0, 2]]')]"
     },
     "execution_count": 42,
     "metadata": {},
     "output_type": "execute_result"
    },
    {
     "data": {
      "text/plain": "<Figure size 432x288 with 1 Axes>",
      "image/png": "[encoded data removed]"
     },
     "metadata": {
      "needs_background": "light"
     },
     "output_type": "display_data"
    }
   ],
   "source": [
    "tree.plot_tree(dt, rounded=True)\n"
   ],
   "metadata": {
    "collapsed": false,
    "pycharm": {
     "name": "#%%\n"
    }
   }
  },
  {
   "cell_type": "code",
   "execution_count": null,
   "outputs": [],
   "source": [],
   "metadata": {
    "collapsed": false,
    "pycharm": {
     "name": "#%%\n"
    }
   }
  }
 ],
 "metadata": {
  "kernelspec": {
   "display_name": "Python 3",
   "language": "python",
   "name": "python3"
  },
  "language_info": {
   "codemirror_mode": {
    "name": "ipython",
    "version": 2
   },
   "file_extension": ".py",
   "mimetype": "text/x-python",
   "name": "python",
   "nbconvert_exporter": "python",
   "pygments_lexer": "ipython2",
   "version": "2.7.6"
  }
 },
 "nbformat": 4,
 "nbformat_minor": 0
}